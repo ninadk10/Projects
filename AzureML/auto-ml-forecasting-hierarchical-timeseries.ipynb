{
 "cells": [
  {
   "cell_type": "code",
   "execution_count": 3,
   "id": "07930168",
   "metadata": {},
   "outputs": [
    {
     "name": "stdout",
     "output_type": "stream",
     "text": [
      "Collecting azureml-train-automl\n",
      "  Using cached azureml_train_automl-1.49.0-py3-none-any.whl (2.2 kB)\n",
      "Collecting azureml-train-automl-client~=1.49.0\n",
      "  Using cached azureml_train_automl_client-1.49.0-py3-none-any.whl (135 kB)\n",
      "Collecting azureml-automl-runtime~=1.49.0\n",
      "  Using cached azureml_automl_runtime-1.49.0-py3-none-any.whl (1.8 MB)\n",
      "Collecting azureml-automl-core~=1.49.0\n",
      "  Using cached azureml_automl_core-1.49.0-py3-none-any.whl (244 kB)\n",
      "Collecting azureml-dataset-runtime[fuse,pandas]~=1.49.0\n",
      "  Using cached azureml_dataset_runtime-1.49.0-py3-none-any.whl (2.3 kB)\n",
      "Collecting azureml-train-automl-runtime~=1.49.0\n",
      "  Using cached azureml_train_automl_runtime-1.49.0-py3-none-any.whl (338 kB)\n",
      "Collecting azureml-telemetry~=1.49.0\n",
      "  Using cached azureml_telemetry-1.49.0-py3-none-any.whl (30 kB)\n",
      "Collecting onnxconverter-common<=1.6.0,>=1.4.2\n",
      "  Using cached onnxconverter_common-1.6.0-py2.py3-none-any.whl (43 kB)\n",
      "Requirement already satisfied: dataclasses<=0.8,>=0.6 in c:\\users\\ninad\\anaconda3\\envs\\py38\\lib\\site-packages (from azureml-automl-runtime~=1.49.0->azureml-train-automl) (0.6)\n",
      "Requirement already satisfied: psutil<6.0.0,>=5.2.2 in c:\\users\\ninad\\anaconda3\\envs\\py38\\lib\\site-packages (from azureml-automl-runtime~=1.49.0->azureml-train-automl) (5.9.0)\n",
      "Collecting dill<0.4.0,>=0.2.8\n",
      "  Using cached dill-0.3.6-py3-none-any.whl (110 kB)\n",
      "Collecting lightgbm<=3.2.1,>=2.0.11\n",
      "  Using cached lightgbm-3.2.1-py3-none-win_amd64.whl (1.0 MB)\n",
      "Collecting onnxruntime<=1.11.1,>=1.3.0\n",
      "  Using cached onnxruntime-1.11.1-cp38-cp38-win_amd64.whl (5.6 MB)\n",
      "Collecting azureml-training-tabular~=1.49.0\n",
      "  Using cached azureml_training_tabular-1.49.0-py3-none-any.whl (1.7 MB)\n",
      "Collecting statsmodels<0.12,>=0.11.0\n",
      "  Using cached statsmodels-0.11.1-cp38-none-win_amd64.whl (8.3 MB)\n",
      "Collecting dotnetcore2<4.0.0,>=3.0.0\n",
      "  Using cached dotnetcore2-3.1.23-py3-none-win_amd64.whl (31.7 MB)\n",
      "Collecting onnxmltools==1.4.1\n",
      "  Using cached onnxmltools-1.4.1-py2.py3-none-any.whl (371 kB)\n",
      "Collecting onnx<=1.12.0,>=1.6.0\n",
      "  Using cached onnx-1.12.0-cp38-cp38-win_amd64.whl (11.5 MB)\n",
      "Collecting scipy<=1.5.3,>=1.0.0\n",
      "  Using cached scipy-1.5.3-cp38-cp38-win_amd64.whl (31.4 MB)\n",
      "Collecting gensim<3.9.0\n",
      "  Using cached gensim-3.8.3-cp38-cp38-win_amd64.whl (24.2 MB)\n",
      "Requirement already satisfied: joblib==0.14.1 in c:\\users\\ninad\\anaconda3\\envs\\py38\\lib\\site-packages (from azureml-automl-runtime~=1.49.0->azureml-train-automl) (0.14.1)\n",
      "Collecting smart-open<=1.9.0\n",
      "  Using cached smart_open-1.9.0-py3-none-any.whl\n",
      "Collecting botocore<=1.23.19\n",
      "  Using cached botocore-1.23.19-py3-none-any.whl (8.4 MB)\n",
      "Collecting skl2onnx==1.4.9\n",
      "  Using cached skl2onnx-1.4.9-py2.py3-none-any.whl (114 kB)\n",
      "Collecting keras2onnx<=1.6.0,>=1.4.0\n",
      "  Using cached keras2onnx-1.6.0-py3-none-any.whl (219 kB)\n",
      "Collecting scikit-learn<0.23.0,>=0.19.0\n",
      "  Using cached scikit_learn-0.22.2.post1-cp38-cp38-win_amd64.whl (6.6 MB)\n",
      "Requirement already satisfied: numpy<=1.22.3,>=1.16.0 in c:\\users\\ninad\\anaconda3\\envs\\py38\\lib\\site-packages (from azureml-automl-runtime~=1.49.0->azureml-train-automl) (1.22.3)\n",
      "Collecting pandas==1.1.5\n",
      "  Using cached pandas-1.1.5-cp38-cp38-win_amd64.whl (9.0 MB)\n",
      "Collecting sklearn-pandas<=1.7.0,>=1.4.0\n",
      "  Using cached sklearn_pandas-1.7.0-py2.py3-none-any.whl (10 kB)\n",
      "Collecting pmdarima==1.7.1\n",
      "  Using cached pmdarima-1.7.1-cp38-cp38-win_amd64.whl (614 kB)\n",
      "Requirement already satisfied: protobuf<=3.20.1 in c:\\users\\ninad\\anaconda3\\envs\\py38\\lib\\site-packages (from azureml-automl-runtime~=1.49.0->azureml-train-automl) (3.20.1)\n",
      "Collecting boto3<=1.20.19\n",
      "  Using cached boto3-1.20.19-py3-none-any.whl (131 kB)\n",
      "Collecting arch<=5.3.1\n",
      "  Using cached arch-5.3.1-cp38-cp38-win_amd64.whl (845 kB)\n",
      "Requirement already satisfied: six in c:\\users\\ninad\\anaconda3\\envs\\py38\\lib\\site-packages (from onnxmltools==1.4.1->azureml-automl-runtime~=1.49.0->azureml-train-automl) (1.16.0)\n",
      "Requirement already satisfied: python-dateutil>=2.7.3 in c:\\users\\ninad\\anaconda3\\envs\\py38\\lib\\site-packages (from pandas==1.1.5->azureml-automl-runtime~=1.49.0->azureml-train-automl) (2.8.2)\n",
      "Requirement already satisfied: pytz>=2017.2 in c:\\users\\ninad\\anaconda3\\envs\\py38\\lib\\site-packages (from pandas==1.1.5->azureml-automl-runtime~=1.49.0->azureml-train-automl) (2022.7)\n",
      "Collecting Cython<0.29.18,>=0.29\n",
      "  Using cached Cython-0.29.17-cp38-cp38-win_amd64.whl (1.7 MB)\n",
      "Requirement already satisfied: urllib3 in c:\\users\\ninad\\anaconda3\\envs\\py38\\lib\\site-packages (from pmdarima==1.7.1->azureml-automl-runtime~=1.49.0->azureml-train-automl) (1.26.14)\n",
      "Requirement already satisfied: setuptools<50.0.0 in c:\\users\\ninad\\anaconda3\\envs\\py38\\lib\\site-packages (from pmdarima==1.7.1->azureml-automl-runtime~=1.49.0->azureml-train-automl) (49.6.0)\n",
      "Collecting pyarrow<=9.0.0,>=0.17.0\n",
      "  Using cached pyarrow-9.0.0-cp38-cp38-win_amd64.whl (19.6 MB)\n",
      "Collecting azureml-dataprep<4.10.0a,>=4.9.0a\n",
      "  Using cached azureml_dataprep-4.9.2-py3-none-any.whl (43.5 MB)\n",
      "Requirement already satisfied: fusepy<4.0.0,>=3.0.1 in c:\\users\\ninad\\anaconda3\\envs\\py38\\lib\\site-packages (from azureml-dataset-runtime[fuse,pandas]~=1.49.0->azureml-train-automl) (3.0.1)\n",
      "Collecting azureml-train-core~=1.49.0\n",
      "  Using cached azureml_train_core-1.49.0-py3-none-any.whl (8.6 MB)\n",
      "Collecting azureml-core~=1.49.0\n",
      "  Using cached azureml_core-1.49.0-py3-none-any.whl (3.3 MB)\n",
      "Collecting azureml-mlflow~=1.49.0\n",
      "  Using cached azureml_mlflow-1.49.0-py3-none-any.whl (812 kB)\n",
      "Collecting bokeh<3.0.0\n",
      "  Using cached bokeh-2.4.3-py3-none-any.whl (18.5 MB)\n",
      "Collecting dask[complete]<=2021.6.0\n",
      "  Using cached dask-2021.6.0-py3-none-any.whl (965 kB)\n",
      "Collecting azureml-interpret~=1.49.0\n",
      "  Using cached azureml_interpret-1.49.0-py3-none-any.whl (52 kB)\n",
      "Requirement already satisfied: jinja2<4 in c:\\users\\ninad\\anaconda3\\envs\\py38\\lib\\site-packages (from azureml-train-automl-runtime~=1.49.0->azureml-train-automl) (3.1.2)\n",
      "Collecting azure-storage-queue~=12.1\n",
      "  Using cached azure_storage_queue-12.6.0-py3-none-any.whl (170 kB)\n",
      "Requirement already satisfied: property-cached>=1.6.4 in c:\\users\\ninad\\anaconda3\\envs\\py38\\lib\\site-packages (from arch<=5.3.1->azureml-automl-runtime~=1.49.0->azureml-train-automl) (1.6.4)\n",
      "Requirement already satisfied: typing-extensions>=4.0.1 in c:\\users\\ninad\\anaconda3\\envs\\py38\\lib\\site-packages (from azure-storage-queue~=12.1->azureml-train-automl-runtime~=1.49.0->azureml-train-automl) (4.4.0)\n",
      "Collecting isodate>=0.6.1\n",
      "  Using cached isodate-0.6.1-py2.py3-none-any.whl (41 kB)\n",
      "Requirement already satisfied: cryptography>=2.1.4 in c:\\users\\ninad\\anaconda3\\envs\\py38\\lib\\site-packages (from azure-storage-queue~=12.1->azureml-train-automl-runtime~=1.49.0->azureml-train-automl) (39.0.1)\n",
      "Collecting azure-core<2.0.0,>=1.26.0\n",
      "  Using cached azure_core-1.26.3-py3-none-any.whl (174 kB)\n",
      "Collecting knack~=0.10.0\n",
      "  Using cached knack-0.10.1-py3-none-any.whl (61 kB)\n",
      "Collecting msrestazure<=0.6.4,>=0.4.33\n",
      "  Using cached msrestazure-0.6.4-py2.py3-none-any.whl (40 kB)\n",
      "Collecting SecretStorage<4.0.0\n",
      "  Using cached SecretStorage-3.3.3-py3-none-any.whl (15 kB)\n",
      "Requirement already satisfied: requests[socks]<3.0.0,>=2.19.1 in c:\\users\\ninad\\anaconda3\\envs\\py38\\lib\\site-packages (from azureml-core~=1.49.0->azureml-train-automl-client~=1.49.0->azureml-train-automl) (2.28.1)\n",
      "Collecting contextlib2<22.0.0\n",
      "  Using cached contextlib2-21.6.0-py2.py3-none-any.whl (13 kB)\n",
      "Collecting azure-mgmt-storage<21.0.0,>=16.0.0\n",
      "  Using cached azure_mgmt_storage-20.1.0-py3-none-any.whl (2.3 MB)\n",
      "Collecting jmespath<2.0.0\n",
      "  Using cached jmespath-1.0.1-py3-none-any.whl (20 kB)\n",
      "Collecting backports.tempfile\n",
      "  Using cached backports.tempfile-1.0-py2.py3-none-any.whl (4.4 kB)\n",
      "Collecting msal-extensions<=1.0.0,>=0.3.0\n",
      "  Using cached msal_extensions-1.0.0-py2.py3-none-any.whl (19 kB)\n",
      "Collecting msrest<=0.7.1,>=0.5.1\n",
      "  Using cached msrest-0.7.1-py3-none-any.whl (85 kB)\n",
      "Collecting argcomplete<3\n",
      "  Using cached argcomplete-2.0.0-py2.py3-none-any.whl (37 kB)\n",
      "Requirement already satisfied: PyJWT<3.0.0 in c:\\users\\ninad\\anaconda3\\envs\\py38\\lib\\site-packages (from azureml-core~=1.49.0->azureml-train-automl-client~=1.49.0->azureml-train-automl) (2.6.0)\n",
      "Requirement already satisfied: pkginfo in c:\\users\\ninad\\anaconda3\\envs\\py38\\lib\\site-packages (from azureml-core~=1.49.0->azureml-train-automl-client~=1.49.0->azureml-train-automl) (1.9.6)\n",
      "Collecting azure-graphrbac<1.0.0,>=0.40.0\n",
      "  Using cached azure_graphrbac-0.61.1-py2.py3-none-any.whl (141 kB)\n",
      "Collecting adal<=1.2.7,>=1.2.0\n",
      "  Using cached adal-1.2.7-py2.py3-none-any.whl (55 kB)\n",
      "Requirement already satisfied: pyopenssl<24.0.0 in c:\\users\\ninad\\anaconda3\\envs\\py38\\lib\\site-packages (from azureml-core~=1.49.0->azureml-train-automl-client~=1.49.0->azureml-train-automl) (22.0.0)\n",
      "Requirement already satisfied: azure-common<2.0.0,>=1.1.12 in c:\\users\\ninad\\anaconda3\\envs\\py38\\lib\\site-packages (from azureml-core~=1.49.0->azureml-train-automl-client~=1.49.0->azureml-train-automl) (1.1.28)\n",
      "Collecting msal<2.0.0,>=1.15.0\n",
      "  Using cached msal-1.21.0-py2.py3-none-any.whl (89 kB)\n",
      "Collecting jsonpickle<3.0.0\n",
      "  Using cached jsonpickle-2.2.0-py2.py3-none-any.whl (39 kB)\n",
      "Collecting docker<7.0.0\n",
      "  Using cached docker-6.0.1-py3-none-any.whl (147 kB)\n",
      "Requirement already satisfied: packaging<22.0,>=20.0 in c:\\users\\ninad\\anaconda3\\envs\\py38\\lib\\site-packages (from azureml-core~=1.49.0->azureml-train-automl-client~=1.49.0->azureml-train-automl) (21.3)\n",
      "Collecting paramiko<3.0.0,>=2.0.8\n",
      "  Using cached paramiko-2.12.0-py2.py3-none-any.whl (213 kB)\n",
      "Requirement already satisfied: pathspec<1.0.0 in c:\\users\\ninad\\anaconda3\\envs\\py38\\lib\\site-packages (from azureml-core~=1.49.0->azureml-train-automl-client~=1.49.0->azureml-train-automl) (0.11.0)\n",
      "Collecting humanfriendly<11.0,>=4.7\n",
      "  Using cached humanfriendly-10.0-py2.py3-none-any.whl (86 kB)\n",
      "Collecting ndg-httpsclient<=0.5.1\n",
      "  Using cached ndg_httpsclient-0.5.1-py3-none-any.whl (34 kB)\n",
      "Collecting azure-mgmt-keyvault<11.0.0,>=0.40.0\n",
      "  Using cached azure_mgmt_keyvault-10.1.0-py3-none-any.whl (605 kB)\n",
      "Collecting azure-mgmt-authorization<4,>=0.40.0\n",
      "  Using cached azure_mgmt_authorization-3.0.0-py3-none-any.whl (965 kB)\n",
      "Collecting azure-mgmt-resource<22.0.0,>=15.0.0\n",
      "  Using cached azure_mgmt_resource-21.2.1-py3-none-any.whl (2.3 MB)\n",
      "Collecting azure-mgmt-containerregistry<11,>=8.2.0\n",
      "  Using cached azure_mgmt_containerregistry-10.1.0-py3-none-any.whl (1.7 MB)\n",
      "Requirement already satisfied: pyyaml<7.0.0,>=5.1.0 in c:\\users\\ninad\\anaconda3\\envs\\py38\\lib\\site-packages (from azureml-dataprep<4.10.0a,>=4.9.0a->azureml-dataset-runtime[fuse,pandas]~=1.49.0->azureml-train-automl) (6.0)\n",
      "Requirement already satisfied: azureml-dataprep-rslex~=2.16.0dev0 in c:\\users\\ninad\\anaconda3\\envs\\py38\\lib\\site-packages (from azureml-dataprep<4.10.0a,>=4.9.0a->azureml-dataset-runtime[fuse,pandas]~=1.49.0->azureml-train-automl) (2.16.3)\n",
      "Collecting azure-identity>=1.7.0\n",
      "  Using cached azure_identity-1.12.0-py3-none-any.whl (135 kB)\n",
      "Requirement already satisfied: azureml-dataprep-native<39.0.0,>=38.0.0 in c:\\users\\ninad\\anaconda3\\envs\\py38\\lib\\site-packages (from azureml-dataprep<4.10.0a,>=4.9.0a->azureml-dataset-runtime[fuse,pandas]~=1.49.0->azureml-train-automl) (38.0.0)\n",
      "Requirement already satisfied: jsonschema in c:\\users\\ninad\\anaconda3\\envs\\py38\\lib\\site-packages (from azureml-dataprep<4.10.0a,>=4.9.0a->azureml-dataset-runtime[fuse,pandas]~=1.49.0->azureml-train-automl) (4.17.3)\n",
      "Collecting cloudpickle<3.0.0,>=1.1.0\n",
      "  Using cached cloudpickle-2.2.1-py3-none-any.whl (25 kB)\n",
      "Collecting numba<=0.55.2\n",
      "  Using cached numba-0.55.2-cp38-cp38-win_amd64.whl (2.4 MB)\n",
      "Collecting shap<0.40.0\n",
      "  Using cached shap-0.39.0-cp38-cp38-win_amd64.whl (414 kB)\n",
      "Collecting interpret-community==0.28.*\n",
      "  Using cached interpret_community-0.28.0-py3-none-any.whl (130 kB)\n",
      "Collecting ml-wrappers~=0.4.2\n",
      "  Using cached ml_wrappers-0.4.3-py3-none-any.whl (41 kB)\n",
      "Requirement already satisfied: interpret-core[required]<=0.2.7,>=0.1.20 in c:\\users\\ninad\\anaconda3\\envs\\py38\\lib\\site-packages (from interpret-community==0.28.*->azureml-interpret~=1.49.0->azureml-train-automl-runtime~=1.49.0->azureml-train-automl) (0.2.7)\n",
      "Collecting azure-storage-blob<=12.13.0,>=12.5.0\n",
      "  Using cached azure_storage_blob-12.13.0-py3-none-any.whl (377 kB)\n",
      "Collecting mlflow-skinny\n",
      "  Using cached mlflow_skinny-2.1.1-py3-none-any.whl (3.8 MB)\n",
      "Collecting azure-mgmt-core<2.0.0,>=1.2.0\n",
      "  Using cached azure_mgmt_core-1.3.2-py3-none-any.whl (26 kB)\n",
      "Requirement already satisfied: applicationinsights in c:\\users\\ninad\\anaconda3\\envs\\py38\\lib\\site-packages (from azureml-telemetry~=1.49.0->azureml-automl-core~=1.49.0->azureml-train-automl) (0.11.10)\n",
      "Collecting azureml-train-restclients-hyperdrive~=1.49.0\n",
      "  Using cached azureml_train_restclients_hyperdrive-1.49.0-py3-none-any.whl (18 kB)\n",
      "Requirement already satisfied: pillow>=7.1.0 in c:\\users\\ninad\\anaconda3\\envs\\py38\\lib\\site-packages (from bokeh<3.0.0->azureml-train-automl-runtime~=1.49.0->azureml-train-automl) (9.4.0)\n",
      "Requirement already satisfied: tornado>=5.1 in c:\\users\\ninad\\anaconda3\\envs\\py38\\lib\\site-packages (from bokeh<3.0.0->azureml-train-automl-runtime~=1.49.0->azureml-train-automl) (6.2)\n",
      "Collecting jmespath<2.0.0\n",
      "  Using cached jmespath-0.10.0-py2.py3-none-any.whl (24 kB)\n",
      "Collecting s3transfer<0.6.0,>=0.5.0\n",
      "  Using cached s3transfer-0.5.2-py3-none-any.whl (79 kB)\n",
      "Requirement already satisfied: toolz>=0.8.2 in c:\\users\\ninad\\anaconda3\\envs\\py38\\lib\\site-packages (from dask[complete]<=2021.6.0->azureml-train-automl-runtime~=1.49.0->azureml-train-automl) (0.12.0)\n",
      "Collecting fsspec>=0.6.0\n",
      "  Using cached fsspec-2023.1.0-py3-none-any.whl (143 kB)\n",
      "Collecting partd>=0.3.10\n",
      "  Using cached partd-1.3.0-py3-none-any.whl (18 kB)\n",
      "Collecting distributed==2021.06.0\n",
      "  Using cached distributed-2021.6.0-py3-none-any.whl (715 kB)\n",
      "Requirement already satisfied: zict>=0.1.3 in c:\\users\\ninad\\anaconda3\\envs\\py38\\lib\\site-packages (from distributed==2021.06.0->dask[complete]<=2021.6.0->azureml-train-automl-runtime~=1.49.0->azureml-train-automl) (2.2.0)\n",
      "Requirement already satisfied: tblib>=1.6.0 in c:\\users\\ninad\\anaconda3\\envs\\py38\\lib\\site-packages (from distributed==2021.06.0->dask[complete]<=2021.6.0->azureml-train-automl-runtime~=1.49.0->azureml-train-automl) (1.7.0)\n",
      "Requirement already satisfied: sortedcontainers!=2.0.0,!=2.0.1 in c:\\users\\ninad\\anaconda3\\envs\\py38\\lib\\site-packages (from distributed==2021.06.0->dask[complete]<=2021.6.0->azureml-train-automl-runtime~=1.49.0->azureml-train-automl) (2.4.0)\n",
      "Requirement already satisfied: msgpack>=0.6.0 in c:\\users\\ninad\\anaconda3\\envs\\py38\\lib\\site-packages (from distributed==2021.06.0->dask[complete]<=2021.6.0->azureml-train-automl-runtime~=1.49.0->azureml-train-automl) (1.0.4)\n",
      "Collecting click>=6.6\n",
      "  Using cached click-8.1.3-py3-none-any.whl (96 kB)\n",
      "Collecting distro>=1.2.0\n",
      "  Using cached distro-1.8.0-py3-none-any.whl (20 kB)\n",
      "Collecting Cython<0.29.18,>=0.29\n",
      "  Using cached Cython-0.29.14-cp38-cp38-win_amd64.whl (1.7 MB)\n",
      "Requirement already satisfied: MarkupSafe>=2.0 in c:\\users\\ninad\\anaconda3\\envs\\py38\\lib\\site-packages (from jinja2<4->azureml-train-automl-runtime~=1.49.0->azureml-train-automl) (2.1.1)\n",
      "Collecting fire\n",
      "  Using cached fire-0.5.0-py2.py3-none-any.whl\n",
      "Requirement already satisfied: wheel in c:\\users\\ninad\\anaconda3\\envs\\py38\\lib\\site-packages (from lightgbm<=3.2.1,>=2.0.11->azureml-automl-runtime~=1.49.0->azureml-train-automl) (0.38.4)\n",
      "Requirement already satisfied: flatbuffers in c:\\users\\ninad\\anaconda3\\envs\\py38\\lib\\site-packages (from onnxruntime<=1.11.1,>=1.3.0->azureml-automl-runtime~=1.49.0->azureml-train-automl) (23.1.21)\n",
      "Requirement already satisfied: boto>=2.32 in c:\\users\\ninad\\anaconda3\\envs\\py38\\lib\\site-packages (from smart-open<=1.9.0->azureml-automl-runtime~=1.49.0->azureml-train-automl) (2.49.0)\n",
      "Collecting patsy>=0.5\n",
      "  Using cached patsy-0.5.3-py2.py3-none-any.whl (233 kB)\n",
      "Requirement already satisfied: cffi>=1.12 in c:\\users\\ninad\\anaconda3\\envs\\py38\\lib\\site-packages (from cryptography>=2.1.4->azure-storage-queue~=12.1->azureml-train-automl-runtime~=1.49.0->azureml-train-automl) (1.15.1)\n",
      "Requirement already satisfied: pywin32>=304 in c:\\users\\ninad\\anaconda3\\envs\\py38\\lib\\site-packages (from docker<7.0.0->azureml-core~=1.49.0->azureml-train-automl-client~=1.49.0->azureml-train-automl) (305.1)\n",
      "Requirement already satisfied: websocket-client>=0.32.0 in c:\\users\\ninad\\anaconda3\\envs\\py38\\lib\\site-packages (from docker<7.0.0->azureml-core~=1.49.0->azureml-train-automl-client~=1.49.0->azureml-train-automl) (0.58.0)\n",
      "Requirement already satisfied: pyreadline3 in c:\\users\\ninad\\anaconda3\\envs\\py38\\lib\\site-packages (from humanfriendly<11.0,>=4.7->azureml-core~=1.49.0->azureml-train-automl-client~=1.49.0->azureml-train-automl) (3.4.1)\n",
      "Requirement already satisfied: pygments in c:\\users\\ninad\\anaconda3\\envs\\py38\\lib\\site-packages (from knack~=0.10.0->azureml-core~=1.49.0->azureml-train-automl-client~=1.49.0->azureml-train-automl) (2.11.2)\n",
      "Requirement already satisfied: tabulate in c:\\users\\ninad\\anaconda3\\envs\\py38\\lib\\site-packages (from knack~=0.10.0->azureml-core~=1.49.0->azureml-train-automl-client~=1.49.0->azureml-train-automl) (0.9.0)\n",
      "Requirement already satisfied: portalocker<3,>=1.6 in c:\\users\\ninad\\anaconda3\\envs\\py38\\lib\\site-packages (from msal-extensions<=1.0.0,>=0.3.0->azureml-core~=1.49.0->azureml-train-automl-client~=1.49.0->azureml-train-automl) (2.7.0)\n",
      "Collecting requests-oauthlib>=0.5.0\n",
      "  Using cached requests_oauthlib-1.3.1-py2.py3-none-any.whl (23 kB)\n",
      "Requirement already satisfied: certifi>=2017.4.17 in c:\\users\\ninad\\anaconda3\\envs\\py38\\lib\\site-packages (from msrest<=0.7.1,>=0.5.1->azureml-core~=1.49.0->azureml-train-automl-client~=1.49.0->azureml-train-automl) (2022.12.7)\n",
      "Requirement already satisfied: pyasn1>=0.1.1 in c:\\users\\ninad\\anaconda3\\envs\\py38\\lib\\site-packages (from ndg-httpsclient<=0.5.1->azureml-core~=1.49.0->azureml-train-automl-client~=1.49.0->azureml-train-automl) (0.4.8)\n",
      "Collecting llvmlite<0.39,>=0.38.0rc1\n",
      "  Using cached llvmlite-0.38.1-cp38-cp38-win_amd64.whl (23.2 MB)\n",
      "Requirement already satisfied: pyparsing!=3.0.5,>=2.0.2 in c:\\users\\ninad\\anaconda3\\envs\\py38\\lib\\site-packages (from packaging<22.0,>=20.0->azureml-core~=1.49.0->azureml-train-automl-client~=1.49.0->azureml-train-automl) (3.0.9)\n",
      "Collecting pynacl>=1.0.1\n",
      "  Using cached PyNaCl-1.5.0-cp36-abi3-win_amd64.whl (212 kB)\n",
      "Collecting bcrypt>=3.1.3\n",
      "  Using cached bcrypt-4.0.1-cp36-abi3-win_amd64.whl (152 kB)\n",
      "Collecting locket\n",
      "  Using cached locket-1.0.0-py2.py3-none-any.whl (4.4 kB)\n",
      "Requirement already satisfied: charset-normalizer<3,>=2 in c:\\users\\ninad\\anaconda3\\envs\\py38\\lib\\site-packages (from requests[socks]<3.0.0,>=2.19.1->azureml-core~=1.49.0->azureml-train-automl-client~=1.49.0->azureml-train-automl) (2.0.4)\n",
      "Requirement already satisfied: idna<4,>=2.5 in c:\\users\\ninad\\anaconda3\\envs\\py38\\lib\\site-packages (from requests[socks]<3.0.0,>=2.19.1->azureml-core~=1.49.0->azureml-train-automl-client~=1.49.0->azureml-train-automl) (3.4)\n",
      "Requirement already satisfied: PySocks!=1.5.7,>=1.5.6 in c:\\users\\ninad\\anaconda3\\envs\\py38\\lib\\site-packages (from requests[socks]<3.0.0,>=2.19.1->azureml-core~=1.49.0->azureml-train-automl-client~=1.49.0->azureml-train-automl) (1.7.1)\n",
      "Collecting jeepney>=0.6\n",
      "  Using cached jeepney-0.8.0-py3-none-any.whl (48 kB)\n",
      "Requirement already satisfied: tqdm>4.25.0 in c:\\users\\ninad\\anaconda3\\envs\\py38\\lib\\site-packages (from shap<0.40.0->azureml-interpret~=1.49.0->azureml-train-automl-runtime~=1.49.0->azureml-train-automl) (4.64.1)\n",
      "Requirement already satisfied: slicer==0.0.7 in c:\\users\\ninad\\anaconda3\\envs\\py38\\lib\\site-packages (from shap<0.40.0->azureml-interpret~=1.49.0->azureml-train-automl-runtime~=1.49.0->azureml-train-automl) (0.0.7)\n",
      "Requirement already satisfied: backports.weakref in c:\\users\\ninad\\anaconda3\\envs\\py38\\lib\\site-packages (from backports.tempfile->azureml-core~=1.49.0->azureml-train-automl-client~=1.49.0->azureml-train-automl) (1.0.post1)\n",
      "Requirement already satisfied: termcolor in c:\\users\\ninad\\anaconda3\\envs\\py38\\lib\\site-packages (from fire->keras2onnx<=1.6.0,>=1.4.0->azureml-automl-runtime~=1.49.0->azureml-train-automl) (2.2.0)\n",
      "Requirement already satisfied: pkgutil-resolve-name>=1.3.10 in c:\\users\\ninad\\anaconda3\\envs\\py38\\lib\\site-packages (from jsonschema->azureml-dataprep<4.10.0a,>=4.9.0a->azureml-dataset-runtime[fuse,pandas]~=1.49.0->azureml-train-automl) (1.3.10)\n",
      "Requirement already satisfied: attrs>=17.4.0 in c:\\users\\ninad\\anaconda3\\envs\\py38\\lib\\site-packages (from jsonschema->azureml-dataprep<4.10.0a,>=4.9.0a->azureml-dataset-runtime[fuse,pandas]~=1.49.0->azureml-train-automl) (22.1.0)\n",
      "Requirement already satisfied: importlib-resources>=1.4.0 in c:\\users\\ninad\\anaconda3\\envs\\py38\\lib\\site-packages (from jsonschema->azureml-dataprep<4.10.0a,>=4.9.0a->azureml-dataset-runtime[fuse,pandas]~=1.49.0->azureml-train-automl) (5.2.0)\n",
      "Requirement already satisfied: pyrsistent!=0.17.0,!=0.17.1,!=0.17.2,>=0.14.0 in c:\\users\\ninad\\anaconda3\\envs\\py38\\lib\\site-packages (from jsonschema->azureml-dataprep<4.10.0a,>=4.9.0a->azureml-dataset-runtime[fuse,pandas]~=1.49.0->azureml-train-automl) (0.18.0)\n",
      "Collecting databricks-cli<1,>=0.8.7\n",
      "  Using cached databricks_cli-0.17.4-py3-none-any.whl\n",
      "Requirement already satisfied: sqlparse<1,>=0.4.0 in c:\\users\\ninad\\anaconda3\\envs\\py38\\lib\\site-packages (from mlflow-skinny->azureml-mlflow~=1.49.0->azureml-train-automl-runtime~=1.49.0->azureml-train-automl) (0.4.3)\n",
      "Collecting gitpython<4,>=2.1.0\n",
      "  Using cached GitPython-3.1.31-py3-none-any.whl (184 kB)\n",
      "Requirement already satisfied: importlib-metadata!=4.7.0,<6,>=3.7.0 in c:\\users\\ninad\\anaconda3\\envs\\py38\\lib\\site-packages (from mlflow-skinny->azureml-mlflow~=1.49.0->azureml-train-automl-runtime~=1.49.0->azureml-train-automl) (4.11.3)\n",
      "Requirement already satisfied: entrypoints<1 in c:\\users\\ninad\\anaconda3\\envs\\py38\\lib\\site-packages (from mlflow-skinny->azureml-mlflow~=1.49.0->azureml-train-automl-runtime~=1.49.0->azureml-train-automl) (0.4)\n",
      "Requirement already satisfied: pycparser in c:\\users\\ninad\\anaconda3\\envs\\py38\\lib\\site-packages (from cffi>=1.12->cryptography>=2.1.4->azure-storage-queue~=12.1->azureml-train-automl-runtime~=1.49.0->azureml-train-automl) (2.21)\n",
      "Requirement already satisfied: colorama in c:\\users\\ninad\\anaconda3\\envs\\py38\\lib\\site-packages (from click>=6.6->distributed==2021.06.0->dask[complete]<=2021.6.0->azureml-train-automl-runtime~=1.49.0->azureml-train-automl) (0.4.6)\n",
      "Requirement already satisfied: oauthlib>=3.1.0 in c:\\users\\ninad\\anaconda3\\envs\\py38\\lib\\site-packages (from databricks-cli<1,>=0.8.7->mlflow-skinny->azureml-mlflow~=1.49.0->azureml-train-automl-runtime~=1.49.0->azureml-train-automl) (3.2.2)\n",
      "Collecting gitdb<5,>=4.0.1\n",
      "  Using cached gitdb-4.0.10-py3-none-any.whl (62 kB)\n",
      "Requirement already satisfied: zipp>=0.5 in c:\\users\\ninad\\anaconda3\\envs\\py38\\lib\\site-packages (from importlib-metadata!=4.7.0,<6,>=3.7.0->mlflow-skinny->azureml-mlflow~=1.49.0->azureml-train-automl-runtime~=1.49.0->azureml-train-automl) (3.11.0)\n",
      "Requirement already satisfied: heapdict in c:\\users\\ninad\\anaconda3\\envs\\py38\\lib\\site-packages (from zict>=0.1.3->distributed==2021.06.0->dask[complete]<=2021.6.0->azureml-train-automl-runtime~=1.49.0->azureml-train-automl) (1.0.1)\n",
      "Requirement already satisfied: smmap<6,>=3.0.1 in c:\\users\\ninad\\anaconda3\\envs\\py38\\lib\\site-packages (from gitdb<5,>=4.0.1->gitpython<4,>=2.1.0->mlflow-skinny->azureml-mlflow~=1.49.0->azureml-train-automl-runtime~=1.49.0->azureml-train-automl) (5.0.0)\n",
      "Installing collected packages: scipy, pyarrow, patsy, onnxruntime, onnx, locket, llvmlite, jsonpickle, jmespath, jeepney, isodate, humanfriendly, gitdb, fsspec, fire, distro, dill, Cython, contextlib2, cloudpickle, click, bcrypt, backports.tempfile, argcomplete, scikit-learn, requests-oauthlib, pynacl, partd, pandas, onnxconverter-common, numba, knack, gitpython, dotnetcore2, docker, databricks-cli, botocore, bokeh, azure-core, statsmodels, sklearn-pandas, skl2onnx, shap, SecretStorage, s3transfer, paramiko, msrest, mlflow-skinny, ml-wrappers, lightgbm, keras2onnx, dask, azure-storage-queue, azure-mgmt-core, adal, pmdarima, onnxmltools, ndg-httpsclient, msrestazure, msal, interpret-community, distributed, boto3, azure-storage-blob, azure-mgmt-storage, azure-mgmt-resource, azure-mgmt-keyvault, azure-mgmt-containerregistry, azure-mgmt-authorization, arch, smart-open, msal-extensions, azureml-train-restclients-hyperdrive, azure-graphrbac, gensim, azureml-core, azure-identity, azureml-telemetry, azureml-mlflow, azureml-interpret, azureml-dataprep, azureml-train-core, azureml-dataset-runtime, azureml-automl-core, azureml-training-tabular, azureml-train-automl-client, azureml-automl-runtime, azureml-train-automl-runtime, azureml-train-automl\n",
      "Successfully installed Cython-0.29.14 SecretStorage-3.3.3 adal-1.2.7 arch-5.3.1 argcomplete-2.0.0 azure-core-1.26.3 azure-graphrbac-0.61.1 azure-identity-1.12.0 azure-mgmt-authorization-3.0.0 azure-mgmt-containerregistry-10.1.0 azure-mgmt-core-1.3.2 azure-mgmt-keyvault-10.1.0 azure-mgmt-resource-21.2.1 azure-mgmt-storage-20.1.0 azure-storage-blob-12.13.0 azure-storage-queue-12.6.0 azureml-automl-core-1.49.0 azureml-automl-runtime-1.49.0 azureml-core-1.49.0 azureml-dataprep-4.9.2 azureml-dataset-runtime-1.49.0 azureml-interpret-1.49.0 azureml-mlflow-1.49.0 azureml-telemetry-1.49.0 azureml-train-automl-1.49.0 azureml-train-automl-client-1.49.0 azureml-train-automl-runtime-1.49.0 azureml-train-core-1.49.0 azureml-train-restclients-hyperdrive-1.49.0 azureml-training-tabular-1.49.0 backports.tempfile-1.0 bcrypt-4.0.1 bokeh-2.4.3 boto3-1.20.19 botocore-1.23.19 click-8.1.3 cloudpickle-2.2.1 contextlib2-21.6.0 dask-2021.6.0 databricks-cli-0.17.4 dill-0.3.6 distributed-2021.6.0 distro-1.8.0 docker-6.0.1 dotnetcore2-3.1.23 fire-0.5.0 fsspec-2023.1.0 gensim-3.8.3 gitdb-4.0.10 gitpython-3.1.31 humanfriendly-10.0 interpret-community-0.28.0 isodate-0.6.1 jeepney-0.8.0 jmespath-0.10.0 jsonpickle-2.2.0 keras2onnx-1.6.0 knack-0.10.1 lightgbm-3.2.1 llvmlite-0.38.1 locket-1.0.0 ml-wrappers-0.4.3 mlflow-skinny-2.1.1 msal-1.21.0 msal-extensions-1.0.0 msrest-0.7.1 msrestazure-0.6.4 ndg-httpsclient-0.5.1 numba-0.55.2 onnx-1.12.0 onnxconverter-common-1.6.0 onnxmltools-1.4.1 onnxruntime-1.11.1 pandas-1.1.5 paramiko-2.12.0 partd-1.3.0 patsy-0.5.3 pmdarima-1.7.1 pyarrow-9.0.0 pynacl-1.5.0 requests-oauthlib-1.3.1 s3transfer-0.5.2 scikit-learn-0.22.2.post1 scipy-1.5.3 shap-0.39.0 skl2onnx-1.4.9 sklearn-pandas-1.7.0 smart-open-1.9.0 statsmodels-0.11.1\n",
      "Note: you may need to restart the kernel to use updated packages.\n"
     ]
    },
    {
     "name": "stderr",
     "output_type": "stream",
     "text": [
      "  WARNING: The script plasma_store.exe is installed in 'C:\\Users\\ninad\\AppData\\Roaming\\Python\\Python38\\Scripts' which is not on PATH.\n",
      "  Consider adding this directory to PATH or, if you prefer to suppress this warning, use --no-warn-script-location.\n",
      "  WARNING: The script onnxruntime_test.exe is installed in 'C:\\Users\\ninad\\AppData\\Roaming\\Python\\Python38\\Scripts' which is not on PATH.\n",
      "  Consider adding this directory to PATH or, if you prefer to suppress this warning, use --no-warn-script-location.\n",
      "  WARNING: The scripts backend-test-tools.exe, check-model.exe and check-node.exe are installed in 'C:\\Users\\ninad\\AppData\\Roaming\\Python\\Python38\\Scripts' which is not on PATH.\n",
      "  Consider adding this directory to PATH or, if you prefer to suppress this warning, use --no-warn-script-location.\n",
      "  WARNING: The script humanfriendly.exe is installed in 'C:\\Users\\ninad\\AppData\\Roaming\\Python\\Python38\\Scripts' which is not on PATH.\n",
      "  Consider adding this directory to PATH or, if you prefer to suppress this warning, use --no-warn-script-location.\n",
      "  WARNING: The script distro.exe is installed in 'C:\\Users\\ninad\\AppData\\Roaming\\Python\\Python38\\Scripts' which is not on PATH.\n",
      "  Consider adding this directory to PATH or, if you prefer to suppress this warning, use --no-warn-script-location.\n",
      "  WARNING: The scripts cygdb.exe, cython.exe and cythonize.exe are installed in 'C:\\Users\\ninad\\AppData\\Roaming\\Python\\Python38\\Scripts' which is not on PATH.\n",
      "  Consider adding this directory to PATH or, if you prefer to suppress this warning, use --no-warn-script-location.\n",
      "  WARNING: The scripts databricks.exe and dbfs.exe are installed in 'C:\\Users\\ninad\\AppData\\Roaming\\Python\\Python38\\Scripts' which is not on PATH.\n",
      "  Consider adding this directory to PATH or, if you prefer to suppress this warning, use --no-warn-script-location.\n",
      "  WARNING: The script bokeh.exe is installed in 'C:\\Users\\ninad\\AppData\\Roaming\\Python\\Python38\\Scripts' which is not on PATH.\n",
      "  Consider adding this directory to PATH or, if you prefer to suppress this warning, use --no-warn-script-location.\n",
      "  WARNING: The script mlflow.exe is installed in 'C:\\Users\\ninad\\AppData\\Roaming\\Python\\Python38\\Scripts' which is not on PATH.\n",
      "  Consider adding this directory to PATH or, if you prefer to suppress this warning, use --no-warn-script-location.\n",
      "  WARNING: The script ndg_httpclient.exe is installed in 'C:\\Users\\ninad\\AppData\\Roaming\\Python\\Python38\\Scripts' which is not on PATH.\n",
      "  Consider adding this directory to PATH or, if you prefer to suppress this warning, use --no-warn-script-location.\n",
      "  WARNING: The scripts dask-scheduler.exe, dask-ssh.exe and dask-worker.exe are installed in 'C:\\Users\\ninad\\AppData\\Roaming\\Python\\Python38\\Scripts' which is not on PATH.\n",
      "  Consider adding this directory to PATH or, if you prefer to suppress this warning, use --no-warn-script-location.\n",
      "  WARNING: The script azml.exe is installed in 'C:\\Users\\ninad\\AppData\\Roaming\\Python\\Python38\\Scripts' which is not on PATH.\n",
      "  Consider adding this directory to PATH or, if you prefer to suppress this warning, use --no-warn-script-location.\n",
      "  WARNING: The script azmldprep.exe is installed in 'C:\\Users\\ninad\\AppData\\Roaming\\Python\\Python38\\Scripts' which is not on PATH.\n",
      "  Consider adding this directory to PATH or, if you prefer to suppress this warning, use --no-warn-script-location.\n"
     ]
    }
   ],
   "source": [
    "pip install azureml-train-automl --user\n",
    "pip install azure-ai-ml azureml-core azure-identity azureml-mlflow mlflow\n",
    "pip install azureml-dataset-runtime --upgrade\n",
    "pip install azureml-contrib-automl-pipeline-steps\n",
    "pip install pyOpenSSL\n",
    "pip install cryptography==38.0.4 --user"
   ]
  },
  {
   "cell_type": "code",
   "execution_count": 1,
   "id": "191bc21b",
   "metadata": {},
   "outputs": [],
   "source": [
    "# Import required libraries\n",
    "import os\n",
    "from azure.identity import DefaultAzureCredential\n",
    "from azure.identity import AzureCliCredential\n",
    "from azure.ai.ml import automl, Input, MLClient, command\n",
    "\n",
    "from azure.ai.ml.constants import AssetTypes\n",
    "from azure.ai.ml.entities import Data\n"
   ]
  },
  {
   "cell_type": "code",
   "execution_count": 29,
   "id": "8dbf1f62",
   "metadata": {},
   "outputs": [
    {
     "data": {
      "text/html": [
       "<div>\n",
       "<style scoped>\n",
       "    .dataframe tbody tr th:only-of-type {\n",
       "        vertical-align: middle;\n",
       "    }\n",
       "\n",
       "    .dataframe tbody tr th {\n",
       "        vertical-align: top;\n",
       "    }\n",
       "\n",
       "    .dataframe thead th {\n",
       "        text-align: right;\n",
       "    }\n",
       "</style>\n",
       "<table border=\"1\" class=\"dataframe\">\n",
       "  <thead>\n",
       "    <tr style=\"text-align: right;\">\n",
       "      <th></th>\n",
       "      <th></th>\n",
       "    </tr>\n",
       "  </thead>\n",
       "  <tbody>\n",
       "    <tr>\n",
       "      <th>SDK version</th>\n",
       "      <td>1.49.0</td>\n",
       "    </tr>\n",
       "    <tr>\n",
       "      <th>Subscription ID</th>\n",
       "      <td>d9412b06-e31c-4c66-b2c5-5e77beb91bc1</td>\n",
       "    </tr>\n",
       "    <tr>\n",
       "      <th>Workspace</th>\n",
       "      <td>demo-ws</td>\n",
       "    </tr>\n",
       "    <tr>\n",
       "      <th>Resource Group</th>\n",
       "      <td>demo-rg</td>\n",
       "    </tr>\n",
       "    <tr>\n",
       "      <th>Location</th>\n",
       "      <td>uksouth</td>\n",
       "    </tr>\n",
       "    <tr>\n",
       "      <th>Default datastore name</th>\n",
       "      <td>workspaceblobstore</td>\n",
       "    </tr>\n",
       "    <tr>\n",
       "      <th>SDK Version</th>\n",
       "      <td>1.49.0</td>\n",
       "    </tr>\n",
       "  </tbody>\n",
       "</table>\n",
       "</div>"
      ],
      "text/plain": [
       "                                                            \n",
       "SDK version                                           1.49.0\n",
       "Subscription ID         d9412b06-e31c-4c66-b2c5-5e77beb91bc1\n",
       "Workspace                                            demo-ws\n",
       "Resource Group                                       demo-rg\n",
       "Location                                             uksouth\n",
       "Default datastore name                    workspaceblobstore\n",
       "SDK Version                                           1.49.0"
      ]
     },
     "execution_count": 29,
     "metadata": {},
     "output_type": "execute_result"
    }
   ],
   "source": [
    "import azureml.core\n",
    "from azureml.core import Workspace, Datastore\n",
    "import pandas as pd\n",
    "\n",
    "# Set up your workspace\n",
    "ws = Workspace.from_config()\n",
    "ws.get_details()\n",
    "\n",
    "# Set up your datastores\n",
    "dstore = ws.get_default_datastore()\n",
    "\n",
    "output = {}\n",
    "output[\"SDK version\"] = azureml.core.VERSION\n",
    "output[\"Subscription ID\"] = ws.subscription_id\n",
    "output[\"Workspace\"] = ws.name\n",
    "output[\"Resource Group\"] = ws.resource_group\n",
    "output[\"Location\"] = ws.location\n",
    "output[\"Default datastore name\"] = dstore.name\n",
    "output[\"SDK Version\"] = azureml.core.VERSION\n",
    "pd.set_option(\"display.max_colwidth\", None)\n",
    "outputDf = pd.DataFrame(data=output, index=[\"\"])\n",
    "outputDf.T"
   ]
  },
  {
   "cell_type": "code",
   "execution_count": 3,
   "id": "d015ffeb",
   "metadata": {},
   "outputs": [
    {
     "name": "stdout",
     "output_type": "stream",
     "text": [
      "Experiment name: automl-hts\n"
     ]
    }
   ],
   "source": [
    "from azureml.core import Experiment\n",
    "\n",
    "experiment = Experiment(ws, \"automl-hts\")\n",
    "\n",
    "print(\"Experiment name: \" + experiment.name)"
   ]
  },
  {
   "cell_type": "code",
   "execution_count": 4,
   "id": "94cb0d87",
   "metadata": {},
   "outputs": [],
   "source": [
    "datastore_path = \"hts-sample\""
   ]
  },
  {
   "cell_type": "code",
   "execution_count": 5,
   "id": "0f8a095a",
   "metadata": {},
   "outputs": [
    {
     "data": {
      "text/plain": [
       "{\n",
       "  \"name\": \"workspaceblobstore\",\n",
       "  \"container_name\": \"azureml-blobstore-8343b37d-a835-4e2d-8040-a061b9b90fba\",\n",
       "  \"account_name\": \"demows8714441228\",\n",
       "  \"protocol\": \"https\",\n",
       "  \"endpoint\": \"core.windows.net\"\n",
       "}"
      ]
     },
     "execution_count": 5,
     "metadata": {},
     "output_type": "execute_result"
    }
   ],
   "source": [
    "datastore = ws.get_default_datastore()\n",
    "datastore"
   ]
  },
  {
   "cell_type": "code",
   "execution_count": 6,
   "id": "cb3aeb98",
   "metadata": {},
   "outputs": [
    {
     "name": "stdout",
     "output_type": "stream",
     "text": [
      "Validating arguments.\n",
      "Arguments validated.\n",
      "Successfully obtained datastore reference and path.\n",
      "Uploading file to hts-sample/221ef6a1-4d9c-43e3-8140-a50ac15ae85c/\n",
      "Successfully uploaded file to datastore.\n",
      "Creating and registering a new dataset.\n",
      "Successfully created and registered a new dataset.\n",
      "Validating arguments.\n",
      "Arguments validated.\n",
      "Successfully obtained datastore reference and path.\n",
      "Uploading file to hts-sample/0cf1ef30-6a50-4448-b7f8-a304809a0ebd/\n",
      "Successfully uploaded file to datastore.\n",
      "Creating and registering a new dataset.\n",
      "Successfully created and registered a new dataset.\n"
     ]
    }
   ],
   "source": [
    "from azureml.data.dataset_factory import TabularDatasetFactory\n",
    "\n",
    "registered_train = TabularDatasetFactory.register_pandas_dataframe(\n",
    "    pd.read_csv(\"Data/hts-sample-train.csv\"),\n",
    "    target=(datastore, \"hts-sample\"),\n",
    "    name=\"hts-sales-train\",\n",
    ")\n",
    "registered_inference = TabularDatasetFactory.register_pandas_dataframe(\n",
    "    pd.read_csv(\"Data/hts-sample-test.csv\"),\n",
    "    target=(datastore, \"hts-sample\"),\n",
    "    name=\"hts-sales-test\",\n",
    ")"
   ]
  },
  {
   "cell_type": "code",
   "execution_count": 7,
   "id": "c0b4079b",
   "metadata": {},
   "outputs": [
    {
     "name": "stdout",
     "output_type": "stream",
     "text": [
      "Found compute target: hts-compute\n"
     ]
    }
   ],
   "source": [
    "from azureml.core.compute import ComputeTarget, AmlCompute\n",
    "\n",
    "# Name your cluster\n",
    "compute_name = \"hts-compute\"\n",
    "\n",
    "\n",
    "if compute_name in ws.compute_targets:\n",
    "    compute_target = ws.compute_targets[compute_name]\n",
    "    if compute_target and type(compute_target) is AmlCompute:\n",
    "        print(\"Found compute target: \" + compute_name)\n",
    "else:\n",
    "    print(\"Creating a new compute target...\")\n",
    "    provisioning_config = AmlCompute.provisioning_configuration(\n",
    "        vm_size=\"STANDARD_DS12_V2\", max_nodes=6\n",
    "    )\n",
    "    # Create the compute target\n",
    "    compute_target = ComputeTarget.create(ws, compute_name, provisioning_config)\n",
    "\n",
    "    # Can poll for a minimum number of nodes and for a specific timeout.\n",
    "    # If no min node count is provided it will use the scale settings for the cluster\n",
    "    compute_target.wait_for_completion(\n",
    "        show_output=True, min_node_count=None, timeout_in_minutes=2\n",
    "    )\n",
    "\n",
    "    # For a more detailed view of current cluster status, use the 'status' property\n",
    "    print(compute_target.status.serialize())"
   ]
  },
  {
   "cell_type": "code",
   "execution_count": 8,
   "id": "1ec4001d",
   "metadata": {},
   "outputs": [],
   "source": [
    "from azureml.train.automl.runtime._hts.hts_parameters import HTSTrainParameters\n",
    "from azureml.automl.core.forecasting_parameters import ForecastingParameters\n",
    "from azureml.train.automl.automlconfig import AutoMLConfig\n",
    "\n",
    "\n",
    "model_explainability = True\n",
    "\n",
    "engineered_explanations = False\n",
    "# Define your hierarchy. Adjust the settings below based on your dataset.\n",
    "hierarchy = [\"state\", \"store_id\", \"product_category\", \"SKU\"]\n",
    "training_level = \"SKU\"\n",
    "\n",
    "# Set your forecast parameters. Adjust the settings below based on your dataset.\n",
    "time_column_name = \"date\"\n",
    "label_column_name = \"quantity\"\n",
    "forecast_horizon = 7\n",
    "\n",
    "forecasting_parameters = ForecastingParameters(\n",
    "    time_column_name=time_column_name,\n",
    "    forecast_horizon=forecast_horizon,\n",
    ")\n",
    "\n",
    "automl_settings = AutoMLConfig(\n",
    "    task=\"forecasting\",\n",
    "    primary_metric=\"normalized_root_mean_squared_error\",\n",
    "    experiment_timeout_hours=1,\n",
    "    label_column_name=label_column_name,\n",
    "    track_child_runs=False,\n",
    "    forecasting_parameters=forecasting_parameters,\n",
    "    pipeline_fetch_max_batch_size=15,\n",
    "    model_explainability=model_explainability,\n",
    "    n_cross_validations=\"auto\",  # Feel free to set to a small integer (>=2) if runtime is an issue.\n",
    "    cv_step_size=\"auto\",\n",
    "    # The following settings are specific to this sample and should be adjusted according to your own needs.\n",
    "    iteration_timeout_minutes=10,\n",
    "    iterations=15,\n",
    ")\n",
    "\n",
    "hts_parameters = HTSTrainParameters(\n",
    "    automl_settings=automl_settings,\n",
    "    hierarchy_column_names=hierarchy,\n",
    "    training_level=training_level,\n",
    "    enable_engineered_explanations=engineered_explanations,\n",
    ")"
   ]
  },
  {
   "cell_type": "code",
   "execution_count": 14,
   "id": "afd5c636",
   "metadata": {},
   "outputs": [
    {
     "name": "stderr",
     "output_type": "stream",
     "text": [
      "WARNING:root:Forecasting parameter country_or_region will be deprecated in the future, please use country_or_region_for_holidays instead.\n",
      "WARNING:root:Forecasting parameter grain_column_names will be deprecated in the future, please use time_series_id_column_names instead.\n",
      "WARNING:root:Forecasting parameter max_horizon will be deprecated in the future, please use forecast_horizon instead.\n",
      "WARNING:root:Parameter `preprocess` will be deprecated. Use `featurization`\n",
      "WARNING:root:Detected both `preprocess` and `featurization`. `preprocess` is being deprecated and will be overridden by `featurization` setting.\n",
      "WARNING:root:Parameter 'auto_blacklist' will be deprecated and enabled by default moving forward.'\n",
      "WARNING:root:Get_data scripts will be deprecated. Instead of parameter 'data_script', please pass a Dataset object into using the 'training_data' parameter.\n",
      "WARNING:root:Parameter 'drop_column_names' will be deprecated. Please drop columns from your datasets as part of your data preparation process before providing the datasets to AutoML.\n",
      "WARNING:root:cost_mode is an internal parameter that should not be used for regular experiments.\n",
      "WARNING:root:save_mlflow is an internal parameter that should not be used for regular experiments.\n",
      "WARNING:root:start_auxiliary_runs_before_parent_complete is an internal parameter that should not be used for regular experiments.\n",
      "WARNING:azureml._base_sdk_common._docstring_wrapper:Class LinkTabularOutputDatasetConfig: This is an experimental class, and may change at any time. Please see https://aka.ms/azuremlexperimental for more information.\n"
     ]
    },
    {
     "name": "stdout",
     "output_type": "stream",
     "text": [
      "A partitioned tabular dataset will be created with the name training after hts_raw_partitioned_1677581889. You may use it for future training.\n",
      "Aggregation dataset is created with the name hts_agg_1677581889\n"
     ]
    }
   ],
   "source": [
    "from azureml.contrib.automl.pipeline.steps import AutoMLPipelineBuilder\n",
    "\n",
    "\n",
    "training_pipeline_steps = AutoMLPipelineBuilder.get_many_models_train_steps(\n",
    "    experiment=experiment,\n",
    "    train_data=registered_train,\n",
    "    compute_target=compute_target,\n",
    "    node_count=1,\n",
    "    process_count_per_node=8,\n",
    "    train_pipeline_parameters=hts_parameters,\n",
    "    run_invocation_timeout=3900,\n",
    ")"
   ]
  },
  {
   "cell_type": "code",
   "execution_count": 15,
   "id": "c5d5d170",
   "metadata": {},
   "outputs": [],
   "source": [
    "from azureml.pipeline.core import Pipeline\n",
    "\n",
    "training_pipeline = Pipeline(ws, steps=training_pipeline_steps)"
   ]
  },
  {
   "cell_type": "code",
   "execution_count": 16,
   "id": "930cdf3a",
   "metadata": {},
   "outputs": [
    {
     "name": "stdout",
     "output_type": "stream",
     "text": [
      "Created step hts-training-dataset-partition [301bfc38][01d2c796-bebb-41f0-b61c-f6ece57c735b], (This step will run and generate new outputs)\n",
      "Created step hts-hierarchy-builder [d8dd7a66][dc328a63-75b6-4f5b-9e3b-680e70781c46], (This step will run and generate new outputs)\n",
      "Created step hts-data-aggregation [5bb3f585][ac445ab4-9942-4492-90b9-cbbffbe6ead2], (This step will run and generate new outputs)\n",
      "Created step hts-automl-training [49a77619][7a908da2-c3ea-48c0-861a-fc57bc6d97a5], (This step will run and generate new outputs)\n",
      "Created step hts-proportions-calculation [7f015aed][d4e65533-027e-4cc1-b8dd-6f9f0b3ad536], (This step will run and generate new outputs)\n",
      "Created step hts-explanation-allocation [09a19425][a0479697-9620-46f5-939e-95f775cebd09], (This step will run and generate new outputs)\n",
      "Submitted PipelineRun e2be9091-7f3b-435a-b1a8-a98071a09ec3\n",
      "Link to Azure Machine Learning Portal: https://ml.azure.com/runs/e2be9091-7f3b-435a-b1a8-a98071a09ec3?wsid=/subscriptions/d9412b06-e31c-4c66-b2c5-5e77beb91bc1/resourcegroups/demo-rg/workspaces/demo-ws&tid=dd1f2c2d-fea2-4bb0-a462-dfeb75d6a2e7\n"
     ]
    }
   ],
   "source": [
    "training_run = experiment.submit(training_pipeline)"
   ]
  },
  {
   "cell_type": "code",
   "execution_count": 17,
   "id": "d7e268bb",
   "metadata": {},
   "outputs": [
    {
     "name": "stdout",
     "output_type": "stream",
     "text": [
      "PipelineRunId: e2be9091-7f3b-435a-b1a8-a98071a09ec3\n",
      "Link to Azure Machine Learning Portal: https://ml.azure.com/runs/e2be9091-7f3b-435a-b1a8-a98071a09ec3?wsid=/subscriptions/d9412b06-e31c-4c66-b2c5-5e77beb91bc1/resourcegroups/demo-rg/workspaces/demo-ws&tid=dd1f2c2d-fea2-4bb0-a462-dfeb75d6a2e7\n"
     ]
    },
    {
     "data": {
      "text/plain": [
       "'Finished'"
      ]
     },
     "execution_count": 17,
     "metadata": {},
     "output_type": "execute_result"
    }
   ],
   "source": [
    "training_run.wait_for_completion(show_output=False)"
   ]
  },
  {
   "cell_type": "code",
   "execution_count": 18,
   "id": "953af567",
   "metadata": {},
   "outputs": [],
   "source": [
    "if model_explainability:\n",
    "    expl_output = training_run.get_pipeline_output(\"explanations\")\n",
    "    expl_output.download(\"training_explanations\")\n",
    "else:\n",
    "    print(\n",
    "        \"Model explanations are available only if model_explainability is set to True.\"\n",
    "    )"
   ]
  },
  {
   "cell_type": "code",
   "execution_count": 19,
   "id": "61130e6e",
   "metadata": {},
   "outputs": [
    {
     "name": "stdout",
     "output_type": "stream",
     "text": [
      "The explanations are located at ec07a45e-83fb-462e-ad06-272949cdf215.\n",
      "Available explanations\n",
      "==============================\n",
      "raw_explanations_AUTOML_TOP_LEVEL.csv\n",
      "raw_explanations_product_category.csv\n",
      "raw_explanations_SKU.csv\n",
      "raw_explanations_state.csv\n",
      "raw_explanations_store_id.csv\n"
     ]
    }
   ],
   "source": [
    "import os\n",
    "\n",
    "if model_explainability:\n",
    "    explanations_dirrectory = os.listdir(\n",
    "        os.path.join(\"training_explanations\", \"azureml\")\n",
    "    )\n",
    "    if len(explanations_dirrectory) > 1:\n",
    "        print(\n",
    "            \"Warning! The directory contains multiple explanations, only the first one will be displayed.\"\n",
    "        )\n",
    "    print(\"The explanations are located at {}.\".format(explanations_dirrectory[0]))\n",
    "    # Now we will list all the explanations.\n",
    "    explanation_path = os.path.join(\n",
    "        \"training_explanations\",\n",
    "        \"azureml\",\n",
    "        explanations_dirrectory[0],\n",
    "        \"training_explanations\",\n",
    "    )\n",
    "    print(\"Available explanations\")\n",
    "    print(\"==============================\")\n",
    "    print(\"\\n\".join(os.listdir(explanation_path)))\n",
    "else:\n",
    "    print(\n",
    "        \"Model explanations are available only if model_explainability is set to True.\"\n",
    "    )"
   ]
  },
  {
   "cell_type": "code",
   "execution_count": 20,
   "id": "31b48f15",
   "metadata": {},
   "outputs": [
    {
     "data": {
      "text/html": [
       "<div>\n",
       "<style scoped>\n",
       "    .dataframe tbody tr th:only-of-type {\n",
       "        vertical-align: middle;\n",
       "    }\n",
       "\n",
       "    .dataframe tbody tr th {\n",
       "        vertical-align: top;\n",
       "    }\n",
       "\n",
       "    .dataframe thead th {\n",
       "        text-align: right;\n",
       "    }\n",
       "</style>\n",
       "<table border=\"1\" class=\"dataframe\">\n",
       "  <thead>\n",
       "    <tr style=\"text-align: right;\">\n",
       "      <th></th>\n",
       "      <th>state</th>\n",
       "      <th>date</th>\n",
       "      <th>price</th>\n",
       "      <th>quantity</th>\n",
       "    </tr>\n",
       "  </thead>\n",
       "  <tbody>\n",
       "    <tr>\n",
       "      <th>0</th>\n",
       "      <td>CA</td>\n",
       "      <td>2.88</td>\n",
       "      <td>1.28</td>\n",
       "      <td>0.05</td>\n",
       "    </tr>\n",
       "    <tr>\n",
       "      <th>1</th>\n",
       "      <td>FL</td>\n",
       "      <td>4.88</td>\n",
       "      <td>4.37</td>\n",
       "      <td>49.47</td>\n",
       "    </tr>\n",
       "    <tr>\n",
       "      <th>2</th>\n",
       "      <td>WA</td>\n",
       "      <td>2.80</td>\n",
       "      <td>2.05</td>\n",
       "      <td>1.34</td>\n",
       "    </tr>\n",
       "  </tbody>\n",
       "</table>\n",
       "</div>"
      ],
      "text/plain": [
       "  state  date  price  quantity\n",
       "0    CA  2.88   1.28      0.05\n",
       "1    FL  4.88   4.37     49.47\n",
       "2    WA  2.80   2.05      1.34"
      ]
     },
     "metadata": {},
     "output_type": "display_data"
    }
   ],
   "source": [
    "from IPython.display import display\n",
    "\n",
    "explanation_type = \"raw\"\n",
    "level = \"state\"\n",
    "\n",
    "if model_explainability:\n",
    "    display(\n",
    "        pd.read_csv(\n",
    "            os.path.join(explanation_path, \"{}_explanations_{}.csv\").format(\n",
    "                explanation_type, level\n",
    "            )\n",
    "        )\n",
    "    )"
   ]
  },
  {
   "cell_type": "code",
   "execution_count": 24,
   "id": "ed39f8c0",
   "metadata": {},
   "outputs": [
    {
     "name": "stdout",
     "output_type": "stream",
     "text": [
      "The training run used for inference is e2be9091-7f3b-435a-b1a8-a98071a09ec3.\n"
     ]
    },
    {
     "name": "stderr",
     "output_type": "stream",
     "text": [
      "WARNING:azureml._base_sdk_common._docstring_wrapper:Class LinkTabularOutputDatasetConfig: This is an experimental class, and may change at any time. Please see https://aka.ms/azuremlexperimental for more information.\n"
     ]
    },
    {
     "name": "stdout",
     "output_type": "stream",
     "text": [
      "A partitioned tabular dataset will be created with the name inference after hts_raw_partitioned_1677588191. You may use it for future inference.\n"
     ]
    }
   ],
   "source": [
    "from azureml.train.automl.runtime._hts.hts_parameters import HTSInferenceParameters\n",
    "\n",
    "inference_parameters = HTSInferenceParameters(\n",
    "    hierarchy_forecast_level=\"store_id\",  # The setting is specific to this dataset and should be changed based on your dataset.\n",
    "    allocation_method=\"proportions_of_historical_average\",\n",
    ")\n",
    "\n",
    "steps = AutoMLPipelineBuilder.get_many_models_batch_inference_steps(\n",
    "    experiment=experiment,\n",
    "    inference_data=registered_inference,\n",
    "    compute_target=compute_target,\n",
    "    inference_pipeline_parameters=inference_parameters,\n",
    "    node_count=1,\n",
    "    process_count_per_node=8,\n",
    ")"
   ]
  },
  {
   "cell_type": "code",
   "execution_count": 25,
   "id": "3ff6f9a7",
   "metadata": {},
   "outputs": [],
   "source": [
    "from azureml.pipeline.core import Pipeline\n",
    "\n",
    "inference_pipeline = Pipeline(ws, steps=steps)"
   ]
  },
  {
   "cell_type": "code",
   "execution_count": 26,
   "id": "dcaba181",
   "metadata": {},
   "outputs": [
    {
     "name": "stdout",
     "output_type": "stream",
     "text": [
      "Created step hts-inference-dataset-partition [965b7a5c][366371b1-d192-4ec2-a65f-240ceea02472], (This step will run and generate new outputs)\n",
      "Created step hts-forecast-parallel [e1b25894][68806cc3-e75a-4b71-bd6d-43791a85026d], (This step will run and generate new outputs)\n",
      "Created step hts-forecast-allocation [10e9942c][4c21f674-4b55-477e-8e93-8830e6963709], (This step will run and generate new outputs)\n",
      "Submitted PipelineRun 120437da-5147-4254-aea0-4564dc5c7dcd\n",
      "Link to Azure Machine Learning Portal: https://ml.azure.com/runs/120437da-5147-4254-aea0-4564dc5c7dcd?wsid=/subscriptions/d9412b06-e31c-4c66-b2c5-5e77beb91bc1/resourcegroups/demo-rg/workspaces/demo-ws&tid=dd1f2c2d-fea2-4bb0-a462-dfeb75d6a2e7\n",
      "PipelineRunId: 120437da-5147-4254-aea0-4564dc5c7dcd\n",
      "Link to Azure Machine Learning Portal: https://ml.azure.com/runs/120437da-5147-4254-aea0-4564dc5c7dcd?wsid=/subscriptions/d9412b06-e31c-4c66-b2c5-5e77beb91bc1/resourcegroups/demo-rg/workspaces/demo-ws&tid=dd1f2c2d-fea2-4bb0-a462-dfeb75d6a2e7\n"
     ]
    },
    {
     "data": {
      "text/plain": [
       "'Finished'"
      ]
     },
     "execution_count": 26,
     "metadata": {},
     "output_type": "execute_result"
    }
   ],
   "source": [
    "inference_run = experiment.submit(inference_pipeline)\n",
    "inference_run.wait_for_completion(show_output=False)"
   ]
  },
  {
   "cell_type": "code",
   "execution_count": 27,
   "id": "57b50cc6",
   "metadata": {},
   "outputs": [
    {
     "data": {
      "text/plain": [
       "2"
      ]
     },
     "execution_count": 27,
     "metadata": {},
     "output_type": "execute_result"
    }
   ],
   "source": [
    "forecasts = inference_run.get_pipeline_output(\"forecasts\")\n",
    "forecasts.download(\"forecast_results\")"
   ]
  },
  {
   "cell_type": "code",
   "execution_count": 28,
   "id": "f5ec87b7",
   "metadata": {},
   "outputs": [
    {
     "name": "stdout",
     "output_type": "stream",
     "text": [
      "Submitted PipelineRun 79ccc978-b32f-44b9-81ac-e26e950a902e\n",
      "Link to Azure Machine Learning Portal: https://ml.azure.com/runs/79ccc978-b32f-44b9-81ac-e26e950a902e?wsid=/subscriptions/d9412b06-e31c-4c66-b2c5-5e77beb91bc1/resourcegroups/demo-rg/workspaces/demo-ws&tid=dd1f2c2d-fea2-4bb0-a462-dfeb75d6a2e7\n",
      "PipelineRunId: 79ccc978-b32f-44b9-81ac-e26e950a902e\n",
      "Link to Azure Machine Learning Portal: https://ml.azure.com/runs/79ccc978-b32f-44b9-81ac-e26e950a902e?wsid=/subscriptions/d9412b06-e31c-4c66-b2c5-5e77beb91bc1/resourcegroups/demo-rg/workspaces/demo-ws&tid=dd1f2c2d-fea2-4bb0-a462-dfeb75d6a2e7\n"
     ]
    },
    {
     "data": {
      "text/plain": [
       "'Finished'"
      ]
     },
     "execution_count": 28,
     "metadata": {},
     "output_type": "execute_result"
    }
   ],
   "source": [
    "inference_run = experiment.submit(\n",
    "    inference_pipeline, pipeline_parameters={\"hierarchy_forecast_level\": \"state\"}\n",
    ")\n",
    "inference_run.wait_for_completion(show_output=False)"
   ]
  }
 ],
 "metadata": {
  "kernelspec": {
   "display_name": "py38",
   "language": "python",
   "name": "py38"
  },
  "language_info": {
   "codemirror_mode": {
    "name": "ipython",
    "version": 3
   },
   "file_extension": ".py",
   "mimetype": "text/x-python",
   "name": "python",
   "nbconvert_exporter": "python",
   "pygments_lexer": "ipython3",
   "version": "3.8.16"
  }
 },
 "nbformat": 4,
 "nbformat_minor": 5
}
