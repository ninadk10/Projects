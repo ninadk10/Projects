{
 "cells": [
  {
   "cell_type": "markdown",
   "id": "ee69b81c",
   "metadata": {},
   "source": [
    "##### This notebook is heavily based off: https://github.com/Azure/azureml-examples/blob/main/sdk/python/jobs/automl-standalone-jobs/automl-classification-task-bankmarketing/automl-classification-task-bankmarketing.ipynb \n",
    "##### Use the two in conjunction"
   ]
  },
  {
   "cell_type": "markdown",
   "id": "c81f0146",
   "metadata": {},
   "source": [
    "# Install required packages"
   ]
  },
  {
   "cell_type": "code",
   "execution_count": null,
   "id": "778d953f",
   "metadata": {},
   "outputs": [],
   "source": [
    "# Install a pip package in the current Jupyter kernel\n",
    "import sys\n",
    "!{sys.executable} -m pip install azure-ai-ml"
   ]
  },
  {
   "cell_type": "code",
   "execution_count": null,
   "id": "7f09e7fd",
   "metadata": {},
   "outputs": [],
   "source": [
    "import sys\n",
    "!{sys.executable} -m pip install azureml-core"
   ]
  },
  {
   "cell_type": "code",
   "execution_count": null,
   "id": "6d8a797a",
   "metadata": {},
   "outputs": [],
   "source": [
    "import sys\n",
    "!{sys.executable} -m pip install azure-identity"
   ]
  },
  {
   "cell_type": "code",
   "execution_count": null,
   "id": "17ae916b",
   "metadata": {},
   "outputs": [],
   "source": [
    "# Install a pip package in the current Jupyter kernel\n",
    "import sys\n",
    "!{sys.executable} -m pip install azureml-mlflow"
   ]
  },
  {
   "cell_type": "code",
   "execution_count": null,
   "id": "225e134c",
   "metadata": {},
   "outputs": [],
   "source": [
    "# Install a pip package in the current Jupyter kernel\n",
    "import sys\n",
    "!{sys.executable} -m pip install mlflow"
   ]
  },
  {
   "cell_type": "code",
   "execution_count": 2,
   "id": "114fb693",
   "metadata": {},
   "outputs": [],
   "source": [
    "# Import required libraries\n",
    "import os\n",
    "from azure.identity import DefaultAzureCredential\n",
    "from azure.identity import AzureCliCredential\n",
    "from azure.ai.ml import automl, Input, MLClient, command\n",
    "\n",
    "from azure.ai.ml.constants import AssetTypes\n",
    "from azure.ai.ml.entities import Data\n",
    "from azure.ai.ml.automl import (\n",
    "    classification,\n",
    "    ClassificationPrimaryMetrics,\n",
    "    ClassificationModels,\n",
    ")"
   ]
  },
  {
   "cell_type": "markdown",
   "id": "88dd1be2",
   "metadata": {},
   "source": [
    "#### Authenticate with azure CLI (separately) then connect to the workspace "
   ]
  },
  {
   "cell_type": "code",
   "execution_count": 6,
   "id": "c8d1f99b",
   "metadata": {},
   "outputs": [
    {
     "name": "stderr",
     "output_type": "stream",
     "text": [
      "Found the config file in: .\\config.json\n"
     ]
    }
   ],
   "source": [
    "credential = DefaultAzureCredential()\n",
    "ml_client = None\n",
    "try:\n",
    "    ml_client = MLClient.from_config(credential)\n",
    "except Exception as ex:\n",
    "    print(ex)\n",
    "    # Enter details of your AzureML workspace\n",
    "    subscription_id = \"d9412b06-e31c-4c66-b2c5-5e77beb91bc1\"\n",
    "    resource_group = \"demo-rg\"\n",
    "    workspace = \"demo-ws\"\n",
    "    ml_client = MLClient(credential, subscription_id, resource_group, workspace)"
   ]
  },
  {
   "cell_type": "code",
   "execution_count": 20,
   "id": "0f47b27f",
   "metadata": {},
   "outputs": [
    {
     "data": {
      "text/plain": [
       "{'Workspace': 'demo-ws',\n",
       " 'Subscription ID': 'd9412b06-e31c-4c66-b2c5-5e77beb91bc1',\n",
       " 'Resource Group': 'demo-rg',\n",
       " 'Location': 'uksouth'}"
      ]
     },
     "execution_count": 20,
     "metadata": {},
     "output_type": "execute_result"
    }
   ],
   "source": [
    "workspace = ml_client.workspaces.get(name=ml_client.workspace_name)\n",
    "\n",
    "subscription_id = ml_client.connections._subscription_id\n",
    "resource_group = workspace.resource_group\n",
    "workspace_name = ml_client.workspace_name\n",
    "\n",
    "output = {}\n",
    "output[\"Workspace\"] = workspace_name\n",
    "output[\"Subscription ID\"] = subscription_id\n",
    "output[\"Resource Group\"] = resource_group\n",
    "output[\"Location\"] = workspace.location\n",
    "output"
   ]
  },
  {
   "cell_type": "markdown",
   "id": "0c6ea706",
   "metadata": {},
   "source": [
    "#### Create MLTable"
   ]
  },
  {
   "cell_type": "code",
   "execution_count": 21,
   "id": "67489797",
   "metadata": {},
   "outputs": [
    {
     "name": "stderr",
     "output_type": "stream",
     "text": [
      "\u001b[32mUploading training-mltable-folder (3.62 MBs): 100%|#####################| 3623630/3623630 [00:00<00:00, 4075384.86it/s]\u001b[0m\n",
      "\u001b[39m\n",
      "\n"
     ]
    },
    {
     "data": {
      "text/plain": [
       "Data({'skip_validation': False, 'mltable_schema_url': None, 'referenced_uris': ['./bank_marketing_train_data.csv'], 'type': 'mltable', 'is_anonymous': False, 'auto_increment_version': False, 'name': 'MLTable', 'description': 'ML Table', 'tags': {}, 'properties': {}, 'print_as_yaml': True, 'id': '/subscriptions/d9412b06-e31c-4c66-b2c5-5e77beb91bc1/resourceGroups/demo-rg/providers/Microsoft.MachineLearningServices/workspaces/demo-ws/data/MLTable/versions/0.1', 'Resource__source_path': None, 'base_path': 'C:\\\\Users\\\\ninad\\\\Documents\\\\Data-code\\\\AzureML', 'creation_context': <azure.ai.ml.entities._system_data.SystemData object at 0x00000208ACD14D90>, 'serialize': <msrest.serialization.Serializer object at 0x00000208ACFB4B80>, 'version': '0.1', 'latest_version': None, 'path': 'azureml://subscriptions/d9412b06-e31c-4c66-b2c5-5e77beb91bc1/resourcegroups/demo-rg/workspaces/demo-ws/datastores/workspaceblobstore/paths/LocalUpload/f69b2d0f27f7db75b3735558eafd404c/training-mltable-folder/', 'datastore': None})"
      ]
     },
     "execution_count": 21,
     "metadata": {},
     "output_type": "execute_result"
    }
   ],
   "source": [
    "# from azure.ai.ml.constants import AssetTypes\n",
    "# from azure.ai.ml import automl, Input\n",
    "\n",
    "# # A. Create MLTable for training data from your local directory\n",
    "# my_training_data_input = Input(\n",
    "#     type=AssetTypes.MLTABLE, path=\"./data/training-mltable-folder\"\n",
    "# )\n",
    "\n",
    "from azure.ai.ml.entities import Data\n",
    "from azure.ai.ml.constants import AssetTypes\n",
    "\n",
    "# my_path must point to folder containing MLTable artifact (MLTable file + data\n",
    "# Supported paths include:\n",
    "# local: './<path>'\n",
    "# blob:  'https://<account_name>.blob.core.windows.net/<container_name>/<path>'\n",
    "# ADLS gen2: 'abfss://<file_system>@<account_name>.dfs.core.windows.net/<path>/'\n",
    "# Datastore: 'azureml://datastores/<data_store_name>/paths/<path>'\n",
    "\n",
    "my_path = \"./data/training-mltable-folder\"\n",
    "\n",
    "my_data = Data(\n",
    "    path=my_path,\n",
    "    type=AssetTypes.MLTABLE,\n",
    "    description=\"ML Table\",\n",
    "    name=\"MLTable\",\n",
    "    version='0.1'\n",
    ")\n",
    "\n",
    "ml_client.data.create_or_update(my_data)"
   ]
  },
  {
   "cell_type": "markdown",
   "id": "8aeef049",
   "metadata": {},
   "source": [
    "#### Find an existing compute cluster or create a new one"
   ]
  },
  {
   "cell_type": "code",
   "execution_count": 22,
   "id": "b96572b6",
   "metadata": {},
   "outputs": [
    {
     "name": "stdout",
     "output_type": "stream",
     "text": [
      "Creating a new compute target...\n"
     ]
    }
   ],
   "source": [
    "from azure.ai.ml.entities import AmlCompute\n",
    "from azure.core.exceptions import ResourceNotFoundError\n",
    "\n",
    "compute_name = \"cpu-cluster\"\n",
    "\n",
    "try:\n",
    "    _ = ml_client.compute.get(compute_name)\n",
    "    print(\"Found existing compute target.\")\n",
    "except ResourceNotFoundError:\n",
    "    print(\"Creating a new compute target...\")\n",
    "    compute_config = AmlCompute(\n",
    "        name=compute_name,\n",
    "        type=\"amlcompute\",\n",
    "        size=\"STANDARD_DS12_V2\",\n",
    "        idle_time_before_scale_down=120,\n",
    "        min_instances=0,\n",
    "        max_instances=6,\n",
    "    )\n",
    "    ml_client.begin_create_or_update(compute_config).result()"
   ]
  },
  {
   "cell_type": "markdown",
   "id": "73537403",
   "metadata": {},
   "source": [
    "#### Configure the Experiment and AutoML classification job"
   ]
  },
  {
   "cell_type": "code",
   "execution_count": 23,
   "id": "8042aec1",
   "metadata": {},
   "outputs": [],
   "source": [
    "# General job parameters\n",
    "max_trials = 5\n",
    "exp_name = \"dpv2-classifier-experiment\""
   ]
  },
  {
   "cell_type": "code",
   "execution_count": 24,
   "id": "f71407b4",
   "metadata": {},
   "outputs": [],
   "source": [
    "# A. Create MLTable for training data from your local directory\n",
    "my_training_data_input = Input(\n",
    "    type=AssetTypes.MLTABLE, path=\"./data/training-mltable-folder\"\n",
    ")\n",
    "\n",
    "# Create the AutoML classification job with the related factory-function.\n",
    "\n",
    "classification_job = automl.classification(\n",
    "    compute=compute_name,\n",
    "    experiment_name=exp_name,\n",
    "    training_data=my_training_data_input,\n",
    "    target_column_name=\"y\",\n",
    "    primary_metric=\"accuracy\",\n",
    "    n_cross_validations=5,\n",
    "    enable_model_explainability=True,\n",
    "    tags={\"my_custom_tag\": \"My custom value\"},\n",
    ")\n",
    "\n",
    "# Limits are all optional\n",
    "classification_job.set_limits(\n",
    "    timeout_minutes=600,\n",
    "    trial_timeout_minutes=20,\n",
    "    max_trials=max_trials,\n",
    "    # max_concurrent_trials = 4,\n",
    "    # max_cores_per_trial: -1,\n",
    "    enable_early_termination=True,\n",
    ")\n",
    "\n",
    "# Training properties are optional\n",
    "classification_job.set_training(\n",
    "    blocked_training_algorithms=[ClassificationModels.LOGISTIC_REGRESSION],\n",
    "    enable_onnx_compatible_models=True,\n",
    ")"
   ]
  },
  {
   "cell_type": "code",
   "execution_count": 25,
   "id": "c6002b0f",
   "metadata": {},
   "outputs": [
    {
     "name": "stdout",
     "output_type": "stream",
     "text": [
      "Created job: compute: azureml:cpu-cluster\n",
      "creation_context:\n",
      "  created_at: '2023-02-26T15:34:04.097030+00:00'\n",
      "  created_by: Ninad Kothmire\n",
      "  created_by_type: User\n",
      "display_name: happy_car_n55s8l01yk\n",
      "experiment_name: dpv2-classifier-experiment\n",
      "id: azureml:/subscriptions/d9412b06-e31c-4c66-b2c5-5e77beb91bc1/resourceGroups/demo-rg/providers/Microsoft.MachineLearningServices/workspaces/demo-ws/jobs/happy_car_n55s8l01yk\n",
      "limits:\n",
      "  enable_early_termination: true\n",
      "  max_concurrent_trials: 1\n",
      "  max_cores_per_trial: -1\n",
      "  max_trials: 5\n",
      "  timeout_minutes: 600\n",
      "  trial_timeout_minutes: 20\n",
      "log_verbosity: info\n",
      "n_cross_validations: 5\n",
      "name: happy_car_n55s8l01yk\n",
      "outputs: {}\n",
      "primary_metric: accuracy\n",
      "properties: {}\n",
      "resources:\n",
      "  instance_count: 1\n",
      "  shm_size: 2g\n",
      "services:\n",
      "  Studio:\n",
      "    endpoint: https://ml.azure.com/runs/happy_car_n55s8l01yk?wsid=/subscriptions/d9412b06-e31c-4c66-b2c5-5e77beb91bc1/resourcegroups/demo-rg/workspaces/demo-ws&tid=dd1f2c2d-fea2-4bb0-a462-dfeb75d6a2e7\n",
      "    job_service_type: Studio\n",
      "  Tracking:\n",
      "    endpoint: azureml://uksouth.api.azureml.ms/mlflow/v1.0/subscriptions/d9412b06-e31c-4c66-b2c5-5e77beb91bc1/resourceGroups/demo-rg/providers/Microsoft.MachineLearningServices/workspaces/demo-ws?\n",
      "    job_service_type: Tracking\n",
      "status: NotStarted\n",
      "tags:\n",
      "  my_custom_tag: My custom value\n",
      "target_column_name: y\n",
      "task: classification\n",
      "training:\n",
      "  blocked_training_algorithms:\n",
      "  - logistic_regression\n",
      "  enable_dnn_training: false\n",
      "  enable_model_explainability: true\n",
      "  enable_onnx_compatible_models: true\n",
      "  enable_stack_ensemble: true\n",
      "  enable_vote_ensemble: true\n",
      "  ensemble_model_download_timeout_minutes: 5\n",
      "training_data:\n",
      "  path: azureml://datastores/workspaceblobstore/paths/LocalUpload/f69b2d0f27f7db75b3735558eafd404c/training-mltable-folder\n",
      "  type: mltable\n",
      "type: automl\n",
      "validation_data:\n",
      "  type: mltable\n",
      "\n"
     ]
    }
   ],
   "source": [
    "# Submit the AutoML job\n",
    "returned_job = ml_client.jobs.create_or_update(\n",
    "    classification_job\n",
    ")  # submit the job to the backend\n",
    "\n",
    "print(f\"Created job: {returned_job}\")"
   ]
  },
  {
   "cell_type": "code",
   "execution_count": 26,
   "id": "d12a3819",
   "metadata": {},
   "outputs": [
    {
     "name": "stdout",
     "output_type": "stream",
     "text": [
      "RunId: happy_car_n55s8l01yk\n",
      "Web View: https://ml.azure.com/runs/happy_car_n55s8l01yk?wsid=/subscriptions/d9412b06-e31c-4c66-b2c5-5e77beb91bc1/resourcegroups/demo-rg/workspaces/demo-ws\n",
      "\n",
      "Execution Summary\n",
      "=================\n",
      "RunId: happy_car_n55s8l01yk\n",
      "Web View: https://ml.azure.com/runs/happy_car_n55s8l01yk?wsid=/subscriptions/d9412b06-e31c-4c66-b2c5-5e77beb91bc1/resourcegroups/demo-rg/workspaces/demo-ws\n",
      "\n"
     ]
    }
   ],
   "source": [
    "\n",
    "ml_client.jobs.stream(returned_job.name)"
   ]
  },
  {
   "cell_type": "code",
   "execution_count": 27,
   "id": "aa47ef7d",
   "metadata": {},
   "outputs": [
    {
     "data": {
      "text/plain": [
       "'https://ml.azure.com/runs/happy_car_n55s8l01yk?wsid=/subscriptions/d9412b06-e31c-4c66-b2c5-5e77beb91bc1/resourcegroups/demo-rg/workspaces/demo-ws&tid=dd1f2c2d-fea2-4bb0-a462-dfeb75d6a2e7'"
      ]
     },
     "execution_count": 27,
     "metadata": {},
     "output_type": "execute_result"
    }
   ],
   "source": [
    "# Get a URL for the status of the job\n",
    "returned_job.services[\"Studio\"].endpoint"
   ]
  },
  {
   "cell_type": "markdown",
   "id": "a9f18af6",
   "metadata": {},
   "source": [
    "#### Retrieve the Best Trial (Best Model's trial/run)"
   ]
  },
  {
   "cell_type": "markdown",
   "id": "ea3c0be5",
   "metadata": {},
   "source": [
    "#### Obtain the tracking URI for MLFlow"
   ]
  },
  {
   "cell_type": "code",
   "execution_count": 33,
   "id": "9dc5d127",
   "metadata": {},
   "outputs": [
    {
     "name": "stdout",
     "output_type": "stream",
     "text": [
      "azureml://uksouth.api.azureml.ms/mlflow/v1.0/subscriptions/d9412b06-e31c-4c66-b2c5-5e77beb91bc1/resourceGroups/demo-rg/providers/Microsoft.MachineLearningServices/workspaces/demo-ws\n"
     ]
    }
   ],
   "source": [
    "import mlflow\n",
    "\n",
    "# Obtain the tracking URL from MLClient\n",
    "MLFLOW_TRACKING_URI = ml_client.workspaces.get(\n",
    "    name=ml_client.workspace_name\n",
    ").mlflow_tracking_uri\n",
    "\n",
    "print(MLFLOW_TRACKING_URI)"
   ]
  },
  {
   "cell_type": "code",
   "execution_count": 34,
   "id": "def111a1",
   "metadata": {},
   "outputs": [
    {
     "name": "stdout",
     "output_type": "stream",
     "text": [
      "\n",
      "Current tracking uri: azureml://uksouth.api.azureml.ms/mlflow/v1.0/subscriptions/d9412b06-e31c-4c66-b2c5-5e77beb91bc1/resourceGroups/demo-rg/providers/Microsoft.MachineLearningServices/workspaces/demo-ws\n"
     ]
    }
   ],
   "source": [
    "# Set the MLFLOW TRACKING URI\n",
    "\n",
    "mlflow.set_tracking_uri(MLFLOW_TRACKING_URI)\n",
    "\n",
    "print(\"\\nCurrent tracking uri: {}\".format(mlflow.get_tracking_uri()))"
   ]
  },
  {
   "cell_type": "code",
   "execution_count": 35,
   "id": "884bc6e3",
   "metadata": {},
   "outputs": [],
   "source": [
    "from mlflow.tracking.client import MlflowClient\n",
    "\n",
    "# Initialize MLFlow client\n",
    "mlflow_client = MlflowClient()"
   ]
  },
  {
   "cell_type": "markdown",
   "id": "43c2bec7",
   "metadata": {},
   "source": [
    "#### Get the AutoML parent Job"
   ]
  },
  {
   "cell_type": "code",
   "execution_count": 36,
   "id": "ce43a5bd",
   "metadata": {},
   "outputs": [
    {
     "name": "stdout",
     "output_type": "stream",
     "text": [
      "Parent Run: \n",
      "<Run: data=<RunData: metrics={'AUC_macro': 0.944486024483466,\n",
      " 'AUC_micro': 0.979510890865782,\n",
      " 'AUC_weighted': 0.944486024483466,\n",
      " 'accuracy': 0.9155637050619548,\n",
      " 'average_precision_score_macro': 0.8240956664121315,\n",
      " 'average_precision_score_micro': 0.9800525432671655,\n",
      " 'average_precision_score_weighted': 0.9544761020467633,\n",
      " 'balanced_accuracy': 0.7659372230508341,\n",
      " 'f1_score_macro': 0.7784852371538283,\n",
      " 'f1_score_micro': 0.9155637050619548,\n",
      " 'f1_score_weighted': 0.9135111817630044,\n",
      " 'log_loss': 0.23871814524853102,\n",
      " 'matthews_correlation': 0.5583665930414543,\n",
      " 'norm_macro_recall': 0.5318744461016681,\n",
      " 'precision_score_macro': 0.7931849040153912,\n",
      " 'precision_score_micro': 0.9155637050619548,\n",
      " 'precision_score_weighted': 0.91201856475381,\n",
      " 'recall_score_macro': 0.7659372230508341,\n",
      " 'recall_score_micro': 0.9155637050619548,\n",
      " 'recall_score_weighted': 0.9155637050619548,\n",
      " 'weighted_accuracy': 0.9529272206535231}, params={}, tags={'_azureml.ComputeTargetType': 'STANDARD_DS12_V2',\n",
      " 'automl_best_child_run_id': 'happy_car_n55s8l01yk_3',\n",
      " 'fit_time': '',\n",
      " 'iteration': '',\n",
      " 'mlflow.rootRunId': 'happy_car_n55s8l01yk',\n",
      " 'mlflow.runName': 'happy_car_n55s8l01yk',\n",
      " 'mlflow.user': 'Ninad Kothmire',\n",
      " 'model_explain_best_run_child_id': 'happy_car_n55s8l01yk_3',\n",
      " 'model_explain_run': 'best_run',\n",
      " 'my_custom_tag': 'My custom value',\n",
      " 'pipeline_id_000': '5dfac790c5c209f98a1da2dc1c7fb76f0397324f;c7af0367625be6ac5c2fecbfc72ed444cb7a2111;799d2168db11fc19b9e1c6c1df62f8981ad39fe9;__AutoML_Ensemble__;__AutoML_Stack_Ensemble__',\n",
      " 'predicted_cost': '',\n",
      " 'run_algorithm': '',\n",
      " 'run_preprocessor': '',\n",
      " 'score': '',\n",
      " 'training_percent': ''}>, info=<RunInfo: artifact_uri='azureml://uksouth.api.azureml.ms/mlflow/v2.0/subscriptions/d9412b06-e31c-4c66-b2c5-5e77beb91bc1/resourceGroups/demo-rg/providers/Microsoft.MachineLearningServices/workspaces/demo-ws/experiments/0cf56afd-748e-4d07-a78a-d63d87963629/runs/happy_car_n55s8l01yk/artifacts', end_time=1677426153942, experiment_id='0cf56afd-748e-4d07-a78a-d63d87963629', lifecycle_stage='active', run_id='happy_car_n55s8l01yk', run_name='happy_car_n55s8l01yk', run_uuid='happy_car_n55s8l01yk', start_time=1677425660149, status='FINISHED', user_id='82955767-fa66-4148-aa43-f497e7884c84'>>\n"
     ]
    }
   ],
   "source": [
    "job_name = returned_job.name\n",
    "\n",
    "# Example if providing an specific Job name/ID\n",
    "# job_name = \"b4e95546-0aa1-448e-9ad6-002e3207b4fc\"\n",
    "\n",
    "# Get the parent run\n",
    "mlflow_parent_run = mlflow_client.get_run(job_name)\n",
    "\n",
    "print(\"Parent Run: \")\n",
    "print(mlflow_parent_run)"
   ]
  },
  {
   "cell_type": "code",
   "execution_count": 37,
   "id": "a9241910",
   "metadata": {},
   "outputs": [
    {
     "name": "stdout",
     "output_type": "stream",
     "text": [
      "{'my_custom_tag': 'My custom value', 'model_explain_run': 'best_run', '_azureml.ComputeTargetType': 'STANDARD_DS12_V2', 'pipeline_id_000': '5dfac790c5c209f98a1da2dc1c7fb76f0397324f;c7af0367625be6ac5c2fecbfc72ed444cb7a2111;799d2168db11fc19b9e1c6c1df62f8981ad39fe9;__AutoML_Ensemble__;__AutoML_Stack_Ensemble__', 'score': '', 'predicted_cost': '', 'fit_time': '', 'training_percent': '', 'iteration': '', 'run_preprocessor': '', 'run_algorithm': '', 'automl_best_child_run_id': 'happy_car_n55s8l01yk_3', 'model_explain_best_run_child_id': 'happy_car_n55s8l01yk_3', 'mlflow.rootRunId': 'happy_car_n55s8l01yk', 'mlflow.runName': 'happy_car_n55s8l01yk', 'mlflow.user': 'Ninad Kothmire'}\n"
     ]
    }
   ],
   "source": [
    "# Print parent run tags. 'automl_best_child_run_id' tag should be there.\n",
    "print(mlflow_parent_run.data.tags)"
   ]
  },
  {
   "cell_type": "code",
   "execution_count": 38,
   "id": "31df9442",
   "metadata": {},
   "outputs": [
    {
     "name": "stdout",
     "output_type": "stream",
     "text": [
      "Found best child run id:  happy_car_n55s8l01yk_3\n",
      "Best child run: \n",
      "<Run: data=<RunData: metrics={'AUC_macro': 0.944486024483466,\n",
      " 'AUC_micro': 0.979510890865782,\n",
      " 'AUC_weighted': 0.944486024483466,\n",
      " 'accuracy': 0.9155637050619548,\n",
      " 'average_precision_score_macro': 0.8240956664121315,\n",
      " 'average_precision_score_micro': 0.9800525432671655,\n",
      " 'average_precision_score_weighted': 0.9544761020467633,\n",
      " 'balanced_accuracy': 0.7659372230508341,\n",
      " 'f1_score_macro': 0.7784852371538283,\n",
      " 'f1_score_micro': 0.9155637050619548,\n",
      " 'f1_score_weighted': 0.9135111817630044,\n",
      " 'log_loss': 0.23871814524853102,\n",
      " 'matthews_correlation': 0.5583665930414543,\n",
      " 'norm_macro_recall': 0.5318744461016681,\n",
      " 'precision_score_macro': 0.7931849040153912,\n",
      " 'precision_score_micro': 0.9155637050619548,\n",
      " 'precision_score_weighted': 0.91201856475381,\n",
      " 'recall_score_macro': 0.7659372230508341,\n",
      " 'recall_score_micro': 0.9155637050619548,\n",
      " 'recall_score_weighted': 0.9155637050619548,\n",
      " 'weighted_accuracy': 0.9529272206535231}, params={}, tags={'mlflow.parentRunId': 'happy_car_n55s8l01yk',\n",
      " 'mlflow.rootRunId': 'happy_car_n55s8l01yk',\n",
      " 'mlflow.runName': 'boring_lychee_t09666g9',\n",
      " 'mlflow.source.name': 'automl_driver.py',\n",
      " 'mlflow.source.type': 'JOB',\n",
      " 'mlflow.user': 'Ninad Kothmire',\n",
      " 'model_explain_run_id': 'happy_car_n55s8l01yk_ModelExplain',\n",
      " 'model_explanation': 'True'}>, info=<RunInfo: artifact_uri='azureml://uksouth.api.azureml.ms/mlflow/v2.0/subscriptions/d9412b06-e31c-4c66-b2c5-5e77beb91bc1/resourceGroups/demo-rg/providers/Microsoft.MachineLearningServices/workspaces/demo-ws/experiments/0cf56afd-748e-4d07-a78a-d63d87963629/runs/happy_car_n55s8l01yk_3/artifacts', end_time=1677426095096, experiment_id='0cf56afd-748e-4d07-a78a-d63d87963629', lifecycle_stage='active', run_id='happy_car_n55s8l01yk_3', run_name='boring_lychee_t09666g9', run_uuid='happy_car_n55s8l01yk_3', start_time=1677426049150, status='FINISHED', user_id='82955767-fa66-4148-aa43-f497e7884c84'>>\n"
     ]
    }
   ],
   "source": [
    "# Get the best model's child run\n",
    "\n",
    "best_child_run_id = mlflow_parent_run.data.tags[\"automl_best_child_run_id\"]\n",
    "print(\"Found best child run id: \", best_child_run_id)\n",
    "\n",
    "best_run = mlflow_client.get_run(best_child_run_id)\n",
    "\n",
    "print(\"Best child run: \")\n",
    "print(best_run)"
   ]
  },
  {
   "cell_type": "markdown",
   "id": "5988c626",
   "metadata": {},
   "source": [
    "#### Get best model run's metrics"
   ]
  },
  {
   "cell_type": "code",
   "execution_count": 39,
   "id": "4c10720d",
   "metadata": {},
   "outputs": [
    {
     "data": {
      "text/plain": [
       "{'recall_score_micro': 0.9155637050619548,\n",
       " 'f1_score_weighted': 0.9135111817630044,\n",
       " 'weighted_accuracy': 0.9529272206535231,\n",
       " 'AUC_macro': 0.944486024483466,\n",
       " 'recall_score_weighted': 0.9155637050619548,\n",
       " 'balanced_accuracy': 0.7659372230508341,\n",
       " 'norm_macro_recall': 0.5318744461016681,\n",
       " 'AUC_micro': 0.979510890865782,\n",
       " 'f1_score_macro': 0.7784852371538283,\n",
       " 'f1_score_micro': 0.9155637050619548,\n",
       " 'precision_score_weighted': 0.91201856475381,\n",
       " 'average_precision_score_micro': 0.9800525432671655,\n",
       " 'matthews_correlation': 0.5583665930414543,\n",
       " 'average_precision_score_weighted': 0.9544761020467633,\n",
       " 'accuracy': 0.9155637050619548,\n",
       " 'average_precision_score_macro': 0.8240956664121315,\n",
       " 'recall_score_macro': 0.7659372230508341,\n",
       " 'AUC_weighted': 0.944486024483466,\n",
       " 'precision_score_macro': 0.7931849040153912,\n",
       " 'precision_score_micro': 0.9155637050619548,\n",
       " 'log_loss': 0.23871814524853102}"
      ]
     },
     "execution_count": 39,
     "metadata": {},
     "output_type": "execute_result"
    }
   ],
   "source": [
    "best_run.data.metrics"
   ]
  },
  {
   "cell_type": "markdown",
   "id": "ef6d72b7",
   "metadata": {},
   "source": [
    "#### Download the best model locally"
   ]
  },
  {
   "cell_type": "code",
   "execution_count": 40,
   "id": "da6dd2e9",
   "metadata": {},
   "outputs": [],
   "source": [
    "import os\n",
    "\n",
    "# Create local folder\n",
    "local_dir = \"./artifact_downloads\"\n",
    "if not os.path.exists(local_dir):\n",
    "    os.mkdir(local_dir)"
   ]
  },
  {
   "cell_type": "code",
   "execution_count": 41,
   "id": "7eeb9b76",
   "metadata": {},
   "outputs": [
    {
     "name": "stderr",
     "output_type": "stream",
     "text": [
      "C:\\Users\\ninad\\AppData\\Local\\Temp/ipykernel_19288/3035511161.py:2: FutureWarning: ``mlflow.tracking.client.MlflowClient.download_artifacts`` is deprecated since 2.0. This method will be removed in a future release. Use ``mlflow.artifacts.download_artifacts`` instead.\n",
      "  local_path = mlflow_client.download_artifacts(\n"
     ]
    },
    {
     "name": "stdout",
     "output_type": "stream",
     "text": [
      "Artifacts downloaded in: C:\\Users\\ninad\\Documents\\Data-code\\AzureML\\artifact_downloads\\outputs\n",
      "Artifacts: ['conda_env_v_1_0_0.yml', 'engineered_feature_names.json', 'env_dependencies.json', 'featurization_summary.json', 'generated_code', 'internal_cross_validated_models.pkl', 'mlflow-model', 'model.onnx', 'model.pkl', 'model_onnx.json', 'pipeline_graph.json', 'run_id.txt', 'scoring_file_pbi_v_1_0_0.py', 'scoring_file_v_1_0_0.py', 'scoring_file_v_2_0_0.py']\n"
     ]
    }
   ],
   "source": [
    "# Download run's artifacts/outputs\n",
    "local_path = mlflow_client.download_artifacts(\n",
    "    best_run.info.run_id, \"outputs\", local_dir\n",
    ")\n",
    "print(\"Artifacts downloaded in: {}\".format(local_path))\n",
    "print(\"Artifacts: {}\".format(os.listdir(local_path)))\n"
   ]
  },
  {
   "cell_type": "code",
   "execution_count": 42,
   "id": "39b009f8",
   "metadata": {},
   "outputs": [
    {
     "data": {
      "text/plain": [
       "['conda.yaml', 'MLmodel', 'model.pkl', 'python_env.yaml', 'requirements.txt']"
      ]
     },
     "execution_count": 42,
     "metadata": {},
     "output_type": "execute_result"
    }
   ],
   "source": [
    "# Show the contents of the MLFlow model folder\n",
    "os.listdir(\"./artifact_downloads/outputs/mlflow-model\")"
   ]
  },
  {
   "cell_type": "markdown",
   "id": "bc4e3374",
   "metadata": {},
   "source": [
    "#### Register Best Model and Deploy"
   ]
  },
  {
   "cell_type": "code",
   "execution_count": 43,
   "id": "76e73f93",
   "metadata": {},
   "outputs": [],
   "source": [
    "# import required libraries\n",
    "from azure.ai.ml.entities import (\n",
    "    ManagedOnlineEndpoint,\n",
    "    ManagedOnlineDeployment,\n",
    "    Model,\n",
    "    Environment,\n",
    "    CodeConfiguration,\n",
    "    ProbeSettings,\n",
    ")\n",
    "from azure.ai.ml.constants import ModelType"
   ]
  },
  {
   "cell_type": "code",
   "execution_count": 44,
   "id": "534927e0",
   "metadata": {},
   "outputs": [],
   "source": [
    "# Creating a unique endpoint name with current datetime to avoid conflicts\n",
    "import datetime\n",
    "\n",
    "online_endpoint_name = \"bankmarketing-\" + datetime.datetime.now().strftime(\"%m%d%H%M%f\")\n",
    "\n",
    "# create an online endpoint\n",
    "endpoint = ManagedOnlineEndpoint(\n",
    "    name=online_endpoint_name,\n",
    "    description=\"this is a sample online endpoint for mlflow model\",\n",
    "    auth_mode=\"key\",\n",
    "    tags={\"foo\": \"bar\"},\n",
    ")"
   ]
  },
  {
   "cell_type": "code",
   "execution_count": 45,
   "id": "f6a6fd0f",
   "metadata": {},
   "outputs": [
    {
     "data": {
      "text/plain": [
       "ManagedOnlineEndpoint({'public_network_access': 'Enabled', 'provisioning_state': 'Succeeded', 'scoring_uri': 'https://bankmarketing-02261748651787.uksouth.inference.ml.azure.com/score', 'openapi_uri': 'https://bankmarketing-02261748651787.uksouth.inference.ml.azure.com/swagger.json', 'name': 'bankmarketing-02261748651787', 'description': 'this is a sample online endpoint for mlflow model', 'tags': {'foo': 'bar'}, 'properties': {'azureml.onlineendpointid': '/subscriptions/d9412b06-e31c-4c66-b2c5-5e77beb91bc1/resourcegroups/demo-rg/providers/microsoft.machinelearningservices/workspaces/demo-ws/onlineendpoints/bankmarketing-02261748651787', 'AzureAsyncOperationUri': 'https://management.azure.com/subscriptions/d9412b06-e31c-4c66-b2c5-5e77beb91bc1/providers/Microsoft.MachineLearningServices/locations/uksouth/mfeOperationsStatus/oe:8343b37d-a835-4e2d-8040-a061b9b90fba:6d927d34-c6a5-4034-be6e-7637c4669fb4?api-version=2022-02-01-preview'}, 'print_as_yaml': True, 'id': '/subscriptions/d9412b06-e31c-4c66-b2c5-5e77beb91bc1/resourceGroups/demo-rg/providers/Microsoft.MachineLearningServices/workspaces/demo-ws/onlineEndpoints/bankmarketing-02261748651787', 'Resource__source_path': None, 'base_path': 'C:\\\\Users\\\\ninad\\\\Documents\\\\Data-code\\\\AzureML', 'creation_context': None, 'serialize': <msrest.serialization.Serializer object at 0x00000208DC2E1B50>, 'auth_mode': 'key', 'location': 'uksouth', 'identity': <azure.ai.ml.entities._credentials.IdentityConfiguration object at 0x00000208DC2E1670>, 'traffic': {}, 'mirror_traffic': {}, 'kind': 'Managed'})"
      ]
     },
     "execution_count": 45,
     "metadata": {},
     "output_type": "execute_result"
    }
   ],
   "source": [
    "ml_client.begin_create_or_update(endpoint).result()"
   ]
  },
  {
   "cell_type": "markdown",
   "id": "5249c6fd",
   "metadata": {},
   "source": [
    "#### Register model"
   ]
  },
  {
   "cell_type": "code",
   "execution_count": 46,
   "id": "d3000354",
   "metadata": {},
   "outputs": [],
   "source": [
    "model_name = \"bankmarketing-model\"\n",
    "model = Model(\n",
    "    path=f\"azureml://jobs/{best_run.info.run_id}/outputs/artifacts/outputs/mlflow-model/\",\n",
    "    name=model_name,\n",
    "    description=\"my sample classification model\",\n",
    "    type=AssetTypes.MLFLOW_MODEL,\n",
    ")\n",
    "\n",
    "# for downloaded file\n",
    "# model = Model(path=\"artifact_downloads/outputs/model.pkl\", name=model_name)\n",
    "\n",
    "registered_model = ml_client.models.create_or_update(model)"
   ]
  },
  {
   "cell_type": "code",
   "execution_count": 47,
   "id": "b609aa4d",
   "metadata": {},
   "outputs": [
    {
     "data": {
      "text/plain": [
       "'/subscriptions/d9412b06-e31c-4c66-b2c5-5e77beb91bc1/resourceGroups/demo-rg/providers/Microsoft.MachineLearningServices/workspaces/demo-ws/models/bankmarketing-model/versions/1'"
      ]
     },
     "execution_count": 47,
     "metadata": {},
     "output_type": "execute_result"
    }
   ],
   "source": [
    "registered_model.id"
   ]
  },
  {
   "cell_type": "code",
   "execution_count": 48,
   "id": "8b21c216",
   "metadata": {},
   "outputs": [],
   "source": [
    "#Deploy\n",
    "deployment = ManagedOnlineDeployment(\n",
    "    name=\"bankmarketing-deploy\",\n",
    "    endpoint_name=online_endpoint_name,\n",
    "    model=registered_model.id,\n",
    "    instance_type=\"Standard_DS2_V2\",\n",
    "    instance_count=1,\n",
    "    liveness_probe=ProbeSettings(\n",
    "        failure_threshold=30,\n",
    "        success_threshold=1,\n",
    "        timeout=2,\n",
    "        period=10,\n",
    "        initial_delay=2000,\n",
    "    ),\n",
    "    readiness_probe=ProbeSettings(\n",
    "        failure_threshold=10,\n",
    "        success_threshold=1,\n",
    "        timeout=10,\n",
    "        period=10,\n",
    "        initial_delay=2000,\n",
    "    ),\n",
    ")"
   ]
  },
  {
   "cell_type": "code",
   "execution_count": 49,
   "id": "8f4c0d38",
   "metadata": {},
   "outputs": [
    {
     "name": "stderr",
     "output_type": "stream",
     "text": [
      "Instance type Standard_DS2_V2 may be too small for compute resources. Minimum recommended compute SKU is Standard_DS3_v2 for general purpose endpoints. Learn more about SKUs here: https://learn.microsoft.com/en-us/azure/machine-learning/referencemanaged-online-endpoints-vm-sku-list\n",
      "Check: endpoint bankmarketing-02261748651787 exists\n",
      "data_collector is not a known attribute of class <class 'azure.ai.ml._restclient.v2022_02_01_preview.models._models_py3.ManagedOnlineDeployment'> and will be ignored\n"
     ]
    },
    {
     "name": "stdout",
     "output_type": "stream",
     "text": [
      "......................................................................................................................................................................................................................................................................................................................................................................................................................................................"
     ]
    },
    {
     "data": {
      "text/plain": [
       "ManagedOnlineDeployment({'private_network_connection': False, 'data_collector': None, 'provisioning_state': 'Succeeded', 'endpoint_name': 'bankmarketing-02261748651787', 'type': 'Managed', 'name': 'bankmarketing-deploy', 'description': None, 'tags': {}, 'properties': {'AzureAsyncOperationUri': 'https://management.azure.com/subscriptions/d9412b06-e31c-4c66-b2c5-5e77beb91bc1/providers/Microsoft.MachineLearningServices/locations/uksouth/mfeOperationsStatus/od:8343b37d-a835-4e2d-8040-a061b9b90fba:8c30bff0-aafa-48b1-a5bd-e5ad53a965fa?api-version=2022-02-01-preview'}, 'print_as_yaml': True, 'id': '/subscriptions/d9412b06-e31c-4c66-b2c5-5e77beb91bc1/resourceGroups/demo-rg/providers/Microsoft.MachineLearningServices/workspaces/demo-ws/onlineEndpoints/bankmarketing-02261748651787/deployments/bankmarketing-deploy', 'Resource__source_path': None, 'base_path': 'C:\\\\Users\\\\ninad\\\\Documents\\\\Data-code\\\\AzureML', 'creation_context': None, 'serialize': <msrest.serialization.Serializer object at 0x00000208DC2A7040>, 'model': '/subscriptions/d9412b06-e31c-4c66-b2c5-5e77beb91bc1/resourceGroups/demo-rg/providers/Microsoft.MachineLearningServices/workspaces/demo-ws/models/bankmarketing-model/versions/1', 'code_configuration': None, 'environment': None, 'environment_variables': {}, 'app_insights_enabled': False, 'scale_settings': <azure.ai.ml.entities._deployment.scale_settings.DefaultScaleSettings object at 0x00000208DC2564F0>, 'request_settings': <azure.ai.ml.entities._deployment.deployment_settings.OnlineRequestSettings object at 0x00000208DC256EE0>, 'liveness_probe': <azure.ai.ml.entities._deployment.deployment_settings.ProbeSettings object at 0x00000208DD2D71C0>, 'readiness_probe': <azure.ai.ml.entities._deployment.deployment_settings.ProbeSettings object at 0x00000208DD2D77C0>, 'instance_count': 1, 'arm_type': 'online_deployment', 'model_mount_path': None, 'instance_type': 'Standard_DS2_V2', 'egress_public_network_access': 'Enabled'})"
      ]
     },
     "execution_count": 49,
     "metadata": {},
     "output_type": "execute_result"
    }
   ],
   "source": [
    "ml_client.online_deployments.begin_create_or_update(deployment).result()"
   ]
  },
  {
   "cell_type": "code",
   "execution_count": 50,
   "id": "e892142b",
   "metadata": {},
   "outputs": [
    {
     "data": {
      "text/plain": [
       "<azure.core.polling._poller.LROPoller at 0x208ad1de790>"
      ]
     },
     "execution_count": 50,
     "metadata": {},
     "output_type": "execute_result"
    }
   ],
   "source": [
    "# bankmarketing deployment to take 100% traffic\n",
    "endpoint.traffic = {\"bankmarketing-deploy\": 100}\n",
    "ml_client.begin_create_or_update(endpoint)"
   ]
  },
  {
   "cell_type": "code",
   "execution_count": 51,
   "id": "abd3b214",
   "metadata": {},
   "outputs": [
    {
     "data": {
      "text/plain": [
       "'[\"no\", \"no\", \"no\", \"no\", \"no\", \"no\", \"no\", \"no\", \"no\", \"no\", \"no\", \"no\", \"no\", \"no\", \"no\", \"no\", \"no\", \"no\", \"no\", \"no\", \"no\", \"no\", \"no\", \"yes\", \"no\", \"no\", \"no\", \"no\", \"no\", \"no\", \"no\", \"no\", \"no\", \"no\", \"no\", \"no\", \"no\", \"no\", \"no\", \"no\", \"no\", \"no\", \"no\", \"no\", \"no\", \"no\", \"no\", \"no\", \"no\", \"yes\", \"no\", \"no\", \"yes\", \"no\", \"yes\", \"no\", \"no\", \"no\", \"no\", \"no\", \"yes\", \"no\", \"no\", \"no\", \"no\", \"no\", \"no\", \"no\", \"no\", \"no\", \"no\", \"no\", \"no\", \"no\", \"yes\", \"no\", \"no\", \"no\", \"no\", \"no\", \"no\", \"no\", \"no\", \"no\", \"yes\", \"no\", \"no\", \"no\", \"no\", \"no\", \"no\", \"no\", \"no\", \"no\", \"no\", \"yes\", \"no\", \"no\", \"no\", \"no\", \"no\", \"no\", \"no\", \"no\", \"no\", \"no\", \"no\", \"no\", \"no\", \"no\", \"no\", \"no\", \"yes\", \"no\", \"no\", \"no\", \"no\", \"no\", \"no\", \"no\", \"no\", \"no\", \"no\", \"no\", \"no\", \"no\", \"no\", \"no\", \"no\", \"no\", \"no\", \"no\", \"no\", \"yes\", \"no\", \"no\", \"no\", \"no\", \"no\", \"yes\", \"no\", \"no\", \"no\", \"no\", \"no\", \"no\", \"no\", \"no\", \"no\", \"no\", \"no\", \"no\", \"no\", \"no\", \"no\", \"no\", \"no\", \"yes\", \"no\", \"no\", \"no\", \"no\", \"no\", \"no\", \"no\", \"no\", \"no\", \"no\", \"yes\", \"no\", \"no\", \"no\", \"no\", \"no\", \"no\", \"no\", \"no\", \"no\", \"yes\", \"no\", \"no\", \"no\", \"no\", \"no\", \"no\", \"no\", \"yes\", \"no\", \"no\", \"no\", \"no\", \"no\", \"no\", \"no\", \"no\", \"no\", \"yes\", \"no\", \"no\", \"no\", \"no\", \"no\", \"no\", \"no\", \"no\", \"no\", \"no\", \"no\", \"yes\", \"yes\", \"no\", \"no\", \"no\", \"no\", \"no\", \"no\", \"no\", \"no\", \"no\", \"no\", \"no\", \"no\", \"no\", \"no\", \"no\", \"no\", \"no\", \"no\", \"no\", \"no\", \"yes\", \"no\", \"no\", \"no\", \"no\", \"no\", \"no\", \"no\", \"no\", \"no\", \"no\", \"no\", \"yes\", \"no\", \"no\", \"no\", \"no\", \"no\", \"yes\", \"no\", \"no\", \"no\", \"no\", \"no\", \"no\", \"no\", \"no\", \"no\", \"no\", \"no\", \"no\", \"no\", \"no\", \"no\", \"no\", \"no\", \"no\", \"no\", \"no\", \"no\", \"no\", \"no\", \"no\", \"no\", \"no\", \"no\", \"no\", \"no\", \"yes\", \"no\", \"no\", \"no\", \"no\", \"yes\", \"no\", \"no\", \"no\", \"yes\", \"no\", \"no\", \"no\", \"yes\", \"no\", \"yes\", \"no\", \"no\", \"no\", \"no\", \"no\", \"no\", \"no\", \"no\", \"no\", \"no\", \"no\", \"no\", \"no\", \"no\", \"no\", \"no\", \"no\", \"no\", \"no\", \"no\", \"no\", \"no\", \"no\", \"no\", \"no\", \"yes\", \"no\", \"no\", \"no\", \"no\", \"no\", \"no\", \"no\", \"no\", \"no\", \"no\", \"no\", \"no\", \"no\", \"no\", \"no\", \"no\", \"no\", \"no\", \"no\", \"no\", \"no\", \"no\", \"no\", \"no\", \"no\", \"no\", \"no\", \"yes\", \"no\", \"no\", \"no\", \"no\", \"no\", \"no\", \"no\", \"no\", \"no\", \"no\", \"no\", \"no\", \"no\", \"no\", \"no\", \"no\", \"no\", \"yes\", \"no\", \"no\", \"no\", \"yes\", \"no\", \"no\", \"no\", \"no\", \"no\", \"no\", \"no\", \"yes\", \"no\", \"no\", \"no\", \"no\", \"no\", \"no\", \"yes\", \"no\", \"yes\", \"no\", \"no\", \"no\", \"no\", \"no\", \"yes\", \"no\", \"no\", \"no\", \"no\", \"yes\", \"no\", \"no\", \"no\", \"no\", \"no\", \"no\", \"no\", \"no\", \"no\", \"no\", \"no\", \"no\", \"no\", \"no\", \"no\", \"yes\", \"no\", \"yes\", \"no\", \"no\", \"yes\", \"no\", \"no\", \"no\", \"no\", \"no\", \"no\", \"no\", \"no\", \"no\", \"no\", \"no\", \"no\", \"no\", \"no\", \"no\", \"no\", \"no\", \"no\", \"no\", \"no\", \"no\", \"no\", \"no\", \"no\", \"no\", \"no\", \"no\", \"no\", \"no\", \"no\", \"yes\", \"no\", \"no\", \"no\", \"no\", \"no\", \"no\", \"no\", \"no\", \"no\", \"no\", \"yes\", \"no\", \"no\", \"no\", \"no\", \"no\", \"no\", \"no\", \"no\", \"no\", \"no\", \"no\", \"no\", \"no\", \"yes\", \"no\", \"no\", \"no\", \"no\", \"no\", \"no\", \"no\", \"no\", \"no\", \"no\", \"yes\", \"no\", \"no\", \"yes\", \"no\", \"no\", \"no\", \"no\", \"no\", \"yes\", \"no\", \"no\", \"no\", \"no\", \"no\", \"no\", \"no\", \"yes\", \"no\", \"no\", \"no\", \"yes\", \"no\", \"no\", \"no\", \"no\", \"no\", \"no\", \"no\", \"no\", \"no\", \"no\", \"no\", \"no\", \"no\", \"no\", \"no\", \"yes\", \"no\", \"yes\", \"no\", \"no\", \"no\", \"no\", \"no\", \"no\", \"no\", \"no\", \"no\", \"yes\", \"no\", \"no\", \"no\", \"no\", \"no\", \"yes\", \"no\", \"no\", \"no\", \"no\", \"yes\", \"no\", \"no\", \"no\", \"no\", \"no\", \"no\", \"no\", \"no\", \"no\", \"no\", \"no\", \"no\", \"no\", \"yes\", \"no\", \"no\", \"no\", \"no\", \"no\", \"no\", \"no\", \"no\", \"no\", \"no\", \"no\", \"no\", \"no\", \"no\", \"no\", \"no\", \"no\", \"no\", \"no\", \"no\", \"no\", \"no\", \"no\", \"no\", \"no\", \"no\", \"no\", \"no\", \"no\", \"no\", \"no\", \"no\", \"no\", \"no\", \"no\", \"no\", \"no\", \"no\", \"no\", \"no\", \"no\", \"no\", \"no\", \"no\", \"no\", \"no\", \"no\", \"no\", \"yes\", \"no\", \"yes\", \"no\", \"no\", \"no\", \"no\", \"no\", \"no\", \"no\", \"no\", \"no\", \"no\", \"no\", \"no\", \"no\", \"yes\", \"no\", \"no\", \"yes\", \"no\", \"no\", \"no\", \"no\", \"no\", \"yes\", \"no\", \"no\", \"yes\", \"no\", \"no\", \"no\", \"no\", \"no\", \"no\", \"no\", \"no\", \"no\", \"yes\", \"no\", \"no\", \"no\", \"no\", \"no\", \"no\", \"yes\", \"no\", \"no\", \"no\", \"no\", \"no\", \"no\", \"no\", \"no\", \"no\", \"no\", \"no\", \"no\", \"no\", \"no\", \"no\", \"no\", \"no\", \"no\", \"no\", \"no\", \"no\", \"no\", \"yes\", \"no\", \"no\", \"no\", \"no\", \"yes\", \"no\", \"no\", \"no\", \"no\", \"no\", \"no\", \"yes\", \"no\", \"no\", \"no\", \"yes\", \"no\", \"no\", \"no\", \"no\", \"no\", \"no\", \"no\", \"yes\", \"no\", \"no\", \"no\", \"no\", \"no\", \"no\", \"no\", \"no\", \"no\", \"no\", \"no\", \"yes\", \"no\", \"no\", \"no\", \"no\", \"no\", \"no\", \"no\", \"no\", \"no\", \"no\", \"yes\", \"no\", \"no\", \"no\", \"no\", \"no\", \"no\", \"no\", \"no\", \"no\", \"no\", \"no\", \"no\", \"yes\", \"yes\", \"no\", \"no\", \"no\", \"no\", \"no\", \"no\", \"no\", \"no\", \"no\", \"no\", \"no\", \"no\", \"no\", \"no\", \"no\", \"no\", \"no\", \"no\", \"no\", \"no\", \"no\", \"no\", \"no\", \"no\", \"no\", \"no\", \"no\", \"no\", \"no\", \"no\", \"no\", \"no\", \"no\", \"no\", \"no\", \"no\", \"no\", \"yes\", \"no\", \"no\", \"no\", \"no\", \"no\", \"no\", \"no\", \"yes\", \"no\", \"no\", \"no\", \"no\", \"no\", \"no\", \"no\", \"no\", \"no\", \"no\", \"no\", \"no\", \"no\", \"no\", \"no\", \"no\", \"no\", \"no\", \"no\", \"no\", \"no\", \"no\", \"no\", \"no\", \"no\", \"no\", \"no\", \"no\", \"yes\", \"no\", \"no\", \"no\", \"no\", \"no\", \"no\", \"no\", \"no\", \"yes\", \"no\", \"no\", \"no\", \"no\", \"no\", \"no\", \"no\", \"no\", \"no\", \"no\", \"no\", \"no\", \"no\", \"no\", \"no\", \"no\", \"no\", \"no\", \"no\", \"no\", \"no\", \"no\", \"no\", \"no\", \"no\", \"no\", \"no\", \"yes\", \"yes\", \"no\", \"no\", \"no\", \"no\", \"no\", \"yes\", \"no\", \"yes\", \"no\", \"no\", \"no\", \"yes\", \"no\", \"no\", \"no\", \"yes\", \"no\", \"no\", \"no\", \"no\", \"no\", \"no\", \"no\", \"no\", \"no\", \"no\", \"no\", \"no\", \"no\", \"no\", \"no\", \"no\", \"no\", \"no\", \"no\", \"no\", \"no\", \"yes\", \"no\", \"no\", \"no\", \"no\", \"no\", \"no\", \"yes\", \"no\", \"no\", \"no\", \"no\", \"no\", \"yes\", \"no\", \"no\", \"yes\", \"yes\", \"no\", \"no\", \"no\", \"no\", \"no\", \"no\", \"no\", \"no\", \"no\", \"no\", \"no\", \"no\", \"no\", \"no\", \"no\", \"no\", \"no\", \"no\", \"no\", \"no\", \"no\", \"no\", \"no\", \"no\", \"yes\", \"no\", \"yes\", \"no\", \"no\", \"no\", \"no\", \"no\", \"no\", \"no\", \"no\", \"no\", \"no\", \"no\", \"no\", \"no\", \"no\", \"no\", \"no\", \"no\", \"no\", \"no\"]'"
      ]
     },
     "execution_count": 51,
     "metadata": {},
     "output_type": "execute_result"
    }
   ],
   "source": [
    "# test the blue deployment with some sample data\n",
    "import pandas as pd\n",
    "\n",
    "test_data = pd.read_csv(\"./data/test-mltable-folder/bank_marketing_test_data.csv\")\n",
    "\n",
    "test_data = test_data.drop(\"y\", axis=1)\n",
    "\n",
    "test_data_json = test_data.to_json(orient=\"records\", indent=4)\n",
    "data = (\n",
    "    '{ \\\n",
    "          \"input_data\": {\"data\": '\n",
    "    + test_data_json\n",
    "    + \"}}\"\n",
    ")\n",
    "\n",
    "request_file_name = \"sample-request-bankmarketing.json\"\n",
    "\n",
    "with open(request_file_name, \"w\") as request_file:\n",
    "    request_file.write(data)\n",
    "\n",
    "ml_client.online_endpoints.invoke(\n",
    "    endpoint_name=online_endpoint_name,\n",
    "    deployment_name=\"bankmarketing-deploy\",\n",
    "    request_file=request_file_name,\n",
    ")"
   ]
  },
  {
   "cell_type": "code",
   "execution_count": 52,
   "id": "ffa96563",
   "metadata": {},
   "outputs": [],
   "source": [
    "# wait and delete endpoint\n",
    "import time\n",
    "\n",
    "time.sleep(60)"
   ]
  },
  {
   "cell_type": "code",
   "execution_count": 53,
   "id": "263189fe",
   "metadata": {},
   "outputs": [
    {
     "name": "stdout",
     "output_type": "stream",
     "text": [
      "{'bankmarketing-deploy': 100}\n",
      "https://bankmarketing-02261748651787.uksouth.inference.ml.azure.com/score\n"
     ]
    }
   ],
   "source": [
    "# Get the details for online endpoint\n",
    "endpoint = ml_client.online_endpoints.get(name=online_endpoint_name)\n",
    "\n",
    "# existing traffic details\n",
    "print(endpoint.traffic)\n",
    "\n",
    "# Get the scoring URI\n",
    "print(endpoint.scoring_uri)"
   ]
  },
  {
   "cell_type": "markdown",
   "id": "e2a33e8c",
   "metadata": {},
   "source": [
    "#### Delete the deployment and endpoint"
   ]
  },
  {
   "cell_type": "code",
   "execution_count": 54,
   "id": "daf603e7",
   "metadata": {},
   "outputs": [
    {
     "data": {
      "text/plain": [
       "<azure.core.polling._poller.LROPoller at 0x208dc2a72b0>"
      ]
     },
     "execution_count": 54,
     "metadata": {},
     "output_type": "execute_result"
    },
    {
     "name": "stdout",
     "output_type": "stream",
     "text": [
      ".................................................................................................."
     ]
    }
   ],
   "source": [
    "ml_client.online_endpoints.begin_delete(name=online_endpoint_name)"
   ]
  },
  {
   "cell_type": "code",
   "execution_count": null,
   "id": "74944b9f",
   "metadata": {},
   "outputs": [],
   "source": []
  }
 ],
 "metadata": {
  "kernelspec": {
   "display_name": "Python 3 (ipykernel)",
   "language": "python",
   "name": "python3"
  },
  "language_info": {
   "codemirror_mode": {
    "name": "ipython",
    "version": 3
   },
   "file_extension": ".py",
   "mimetype": "text/x-python",
   "name": "python",
   "nbconvert_exporter": "python",
   "pygments_lexer": "ipython3",
   "version": "3.9.7"
  }
 },
 "nbformat": 4,
 "nbformat_minor": 5
}
